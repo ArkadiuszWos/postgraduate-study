{
 "cells": [
  {
   "cell_type": "code",
   "execution_count": 1,
   "metadata": {},
   "outputs": [],
   "source": [
    "__author__ = \"Arkadiusz Wos\"\n",
    "__copyright__ = \"Arkadiusz Wos\"\n",
    "__version__ = \"1.0 20.05.2018\"\n",
    "__email__ = \"arkadiusz.wos@gmail.com\""
   ]
  },
  {
   "cell_type": "code",
   "execution_count": 2,
   "metadata": {},
   "outputs": [
    {
     "name": "stderr",
     "output_type": "stream",
     "text": [
      "C:\\ProgramData\\Anaconda3\\lib\\site-packages\\sklearn\\cross_validation.py:41: DeprecationWarning: This module was deprecated in version 0.18 in favor of the model_selection module into which all the refactored classes and functions are moved. Also note that the interface of the new CV iterators are different from that of this module. This module will be removed in 0.20.\n",
      "  \"This module will be removed in 0.20.\", DeprecationWarning)\n"
     ]
    }
   ],
   "source": [
    "import pandas as pd\n",
    "import numpy as np\n",
    "from scipy.stats import boxcox\n",
    "\n",
    "import matplotlib.pyplot as plt\n",
    "from matplotlib.ticker import PercentFormatter\n",
    "from matplotlib.pyplot import figure\n",
    "from matplotlib.legend_handler import HandlerLine2D\n",
    "\n",
    "from sklearn import metrics\n",
    "import matplotlib.pyplot as plt\n",
    "%matplotlib inline\n",
    "\n",
    "import seaborn as sns\n",
    "\n",
    "from sklearn.cross_validation import train_test_split\n",
    "from sklearn.linear_model import LogisticRegression\n",
    "from sklearn.ensemble import GradientBoostingClassifier\n",
    "from sklearn.linear_model import LogisticRegression\n",
    "from sklearn.metrics import accuracy_score, precision_score, recall_score, confusion_matrix\n",
    "from sklearn.utils import resample\n",
    "from sklearn import preprocessing\n",
    "from sklearn.ensemble import RandomForestClassifier\n",
    "from sklearn import metrics, cross_validation\n",
    "from sklearn.metrics import roc_curve, roc_auc_score, auc\n",
    "from sklearn.model_selection import cross_val_score\n",
    "\n",
    "\n",
    "\n",
    "import xgboost as xgb\n",
    "from xgboost import XGBClassifier\n",
    "\n",
    "from ml_metrics import rmsle\n",
    "\n",
    "\n",
    "#to print multiple outputs\n",
    "from IPython.core.interactiveshell import InteractiveShell\n",
    "InteractiveShell.ast_node_interactivity = \"all\""
   ]
  },
  {
   "cell_type": "code",
   "execution_count": 3,
   "metadata": {},
   "outputs": [
    {
     "data": {
      "text/html": [
       "<div>\n",
       "<style scoped>\n",
       "    .dataframe tbody tr th:only-of-type {\n",
       "        vertical-align: middle;\n",
       "    }\n",
       "\n",
       "    .dataframe tbody tr th {\n",
       "        vertical-align: top;\n",
       "    }\n",
       "\n",
       "    .dataframe thead th {\n",
       "        text-align: right;\n",
       "    }\n",
       "</style>\n",
       "<table border=\"1\" class=\"dataframe\">\n",
       "  <thead>\n",
       "    <tr style=\"text-align: right;\">\n",
       "      <th></th>\n",
       "      <th>high_roller_mark</th>\n",
       "      <th>gw_7_days</th>\n",
       "      <th>egw_7_days</th>\n",
       "      <th>bet_7_days</th>\n",
       "      <th>number_of_bets_7_days</th>\n",
       "      <th>number_of_games_7_days</th>\n",
       "    </tr>\n",
       "  </thead>\n",
       "  <tbody>\n",
       "    <tr>\n",
       "      <th>0</th>\n",
       "      <td>1</td>\n",
       "      <td>285.9912</td>\n",
       "      <td>222.909660</td>\n",
       "      <td>6709.8827</td>\n",
       "      <td>4887</td>\n",
       "      <td>6</td>\n",
       "    </tr>\n",
       "    <tr>\n",
       "      <th>1</th>\n",
       "      <td>1</td>\n",
       "      <td>9549.9449</td>\n",
       "      <td>3965.716762</td>\n",
       "      <td>107181.5341</td>\n",
       "      <td>2331</td>\n",
       "      <td>1</td>\n",
       "    </tr>\n",
       "    <tr>\n",
       "      <th>2</th>\n",
       "      <td>1</td>\n",
       "      <td>4616.7053</td>\n",
       "      <td>925.978947</td>\n",
       "      <td>28936.8421</td>\n",
       "      <td>4342</td>\n",
       "      <td>2</td>\n",
       "    </tr>\n",
       "    <tr>\n",
       "      <th>3</th>\n",
       "      <td>1</td>\n",
       "      <td>6886.0000</td>\n",
       "      <td>1516.700000</td>\n",
       "      <td>40612.5000</td>\n",
       "      <td>600</td>\n",
       "      <td>3</td>\n",
       "    </tr>\n",
       "    <tr>\n",
       "      <th>4</th>\n",
       "      <td>1</td>\n",
       "      <td>8.6000</td>\n",
       "      <td>0.549900</td>\n",
       "      <td>14.1000</td>\n",
       "      <td>26</td>\n",
       "      <td>1</td>\n",
       "    </tr>\n",
       "  </tbody>\n",
       "</table>\n",
       "</div>"
      ],
      "text/plain": [
       "   high_roller_mark  gw_7_days   egw_7_days   bet_7_days  \\\n",
       "0                 1   285.9912   222.909660    6709.8827   \n",
       "1                 1  9549.9449  3965.716762  107181.5341   \n",
       "2                 1  4616.7053   925.978947   28936.8421   \n",
       "3                 1  6886.0000  1516.700000   40612.5000   \n",
       "4                 1     8.6000     0.549900      14.1000   \n",
       "\n",
       "   number_of_bets_7_days  number_of_games_7_days  \n",
       "0                   4887                       6  \n",
       "1                   2331                       1  \n",
       "2                   4342                       2  \n",
       "3                    600                       3  \n",
       "4                     26                       1  "
      ]
     },
     "execution_count": 3,
     "metadata": {},
     "output_type": "execute_result"
    }
   ],
   "source": [
    "#Read the file\n",
    "csv_file = r'C:\\Users\\Arkadiusz Wos\\Desktop\\!Podyplomowe!\\DF_7days.csv'\n",
    "df = pd.read_csv(csv_file)\n",
    "df.drop(columns=['userid', 'dbs'], inplace = True)\n",
    "df.head()"
   ]
  },
  {
   "cell_type": "markdown",
   "metadata": {},
   "source": [
    "### Data description"
   ]
  },
  {
   "cell_type": "code",
   "execution_count": 4,
   "metadata": {},
   "outputs": [
    {
     "name": "stdout",
     "output_type": "stream",
     "text": [
      "<class 'pandas.core.frame.DataFrame'>\n",
      "RangeIndex: 2410010 entries, 0 to 2410009\n",
      "Data columns (total 6 columns):\n",
      "high_roller_mark          int64\n",
      "gw_7_days                 float64\n",
      "egw_7_days                float64\n",
      "bet_7_days                float64\n",
      "number_of_bets_7_days     int64\n",
      "number_of_games_7_days    int64\n",
      "dtypes: float64(3), int64(3)\n",
      "memory usage: 110.3 MB\n"
     ]
    }
   ],
   "source": [
    "#before\n",
    "df.info()"
   ]
  },
  {
   "cell_type": "code",
   "execution_count": 5,
   "metadata": {},
   "outputs": [
    {
     "data": {
      "text/plain": [
       "0    2408392\n",
       "1       1618\n",
       "Name: high_roller_mark, dtype: int64"
      ]
     },
     "execution_count": 5,
     "metadata": {},
     "output_type": "execute_result"
    }
   ],
   "source": [
    "#number of high rollers\n",
    "df['high_roller_mark'].value_counts()"
   ]
  },
  {
   "cell_type": "code",
   "execution_count": 6,
   "metadata": {},
   "outputs": [
    {
     "data": {
      "text/plain": [
       "False"
      ]
     },
     "execution_count": 6,
     "metadata": {},
     "output_type": "execute_result"
    }
   ],
   "source": [
    "#check nulls\n",
    "np.any(np.isnan(df))"
   ]
  },
  {
   "cell_type": "code",
   "execution_count": 7,
   "metadata": {},
   "outputs": [
    {
     "data": {
      "text/plain": [
       "high_roller_mark               0.000000\n",
       "gw_7_days                -136350.330000\n",
       "egw_7_days                     0.000179\n",
       "bet_7_days                     0.004700\n",
       "number_of_bets_7_days          1.000000\n",
       "number_of_games_7_days         1.000000\n",
       "dtype: float64"
      ]
     },
     "execution_count": 7,
     "metadata": {},
     "output_type": "execute_result"
    },
    {
     "data": {
      "text/plain": [
       "high_roller_mark          1.000000e+00\n",
       "gw_7_days                 9.938020e+04\n",
       "egw_7_days                7.646464e+04\n",
       "bet_7_days                2.061981e+06\n",
       "number_of_bets_7_days     1.601670e+05\n",
       "number_of_games_7_days    5.600000e+01\n",
       "dtype: float64"
      ]
     },
     "execution_count": 7,
     "metadata": {},
     "output_type": "execute_result"
    }
   ],
   "source": [
    "df.min()\n",
    "df.max()"
   ]
  },
  {
   "cell_type": "code",
   "execution_count": 8,
   "metadata": {},
   "outputs": [
    {
     "data": {
      "image/png": "[encoded data removed]",
      "text/plain": [
       "<Figure size 1440x1080 with 6 Axes>"
      ]
     },
     "metadata": {},
     "output_type": "display_data"
    }
   ],
   "source": [
    "#histogram befoore feature engineereig\n",
    "df[['gw_7_days','egw_7_days','bet_7_days','number_of_bets_7_days','number_of_games_7_days']].hist(bins = 10, figsize = (20,15));"
   ]
  },
  {
   "cell_type": "markdown",
   "metadata": {},
   "source": [
    "## Pre-processing data"
   ]
  },
  {
   "cell_type": "markdown",
   "metadata": {},
   "source": [
    "### Balancing data"
   ]
  },
  {
   "cell_type": "code",
   "execution_count": 9,
   "metadata": {},
   "outputs": [],
   "source": [
    "df_majority = df[df['high_roller_mark']==0]\n",
    "df_minority = df[df['high_roller_mark']==1]"
   ]
  },
  {
   "cell_type": "code",
   "execution_count": 10,
   "metadata": {},
   "outputs": [
    {
     "data": {
      "text/plain": [
       "0    100000\n",
       "1     10000\n",
       "Name: high_roller_mark, dtype: int64"
      ]
     },
     "execution_count": 10,
     "metadata": {},
     "output_type": "execute_result"
    }
   ],
   "source": [
    "#up-sample minority class\n",
    "df_minority_upsampled = resample(df_minority, \n",
    "                                 replace=True,     # sample with replacement\n",
    "                                 n_samples=10000,    # to match majority class\n",
    "                                 random_state=123) # reproducible results\n",
    " \n",
    "# Combine majority class with upsampled minority class\n",
    "df_upsampled = pd.concat([df_majority, df_minority_upsampled])\n",
    " \n",
    "\n",
    "\n",
    "# Downsample majority class\n",
    "df_majority_downsampled = resample(df_majority, \n",
    "                                 replace=False,    # sample without replacement\n",
    "                                 n_samples=100000,     # to match minority class\n",
    "                                 random_state=123) # reproducible results\n",
    "\n",
    "# Display new class counts\n",
    "balanced_df = pd.concat([df_majority_downsampled, df_minority_upsampled])\n",
    "balanced_df['high_roller_mark'].value_counts()"
   ]
  },
  {
   "cell_type": "markdown",
   "metadata": {},
   "source": [
    "### Transformation to normal distribution"
   ]
  },
  {
   "cell_type": "code",
   "execution_count": 11,
   "metadata": {},
   "outputs": [],
   "source": [
    "transformet_df = df[['gw_7_days','egw_7_days','bet_7_days','number_of_bets_7_days','number_of_games_7_days','high_roller_mark']]"
   ]
  },
  {
   "cell_type": "code",
   "execution_count": 12,
   "metadata": {},
   "outputs": [
    {
     "data": {
      "text/plain": [
       "array([[<matplotlib.axes._subplots.AxesSubplot object at 0x000002AF836FC898>,\n",
       "        <matplotlib.axes._subplots.AxesSubplot object at 0x000002AF837892E8>],\n",
       "       [<matplotlib.axes._subplots.AxesSubplot object at 0x000002AF83756BA8>,\n",
       "        <matplotlib.axes._subplots.AxesSubplot object at 0x000002AF83FD0438>],\n",
       "       [<matplotlib.axes._subplots.AxesSubplot object at 0x000002AF8373CD30>,\n",
       "        <matplotlib.axes._subplots.AxesSubplot object at 0x000002AF8373CB38>]],\n",
       "      dtype=object)"
      ]
     },
     "execution_count": 12,
     "metadata": {},
     "output_type": "execute_result"
    },
    {
     "data": {
      "image/png": "[encoded data removed]",
      "text/plain": [
       "<Figure size 1440x1080 with 6 Axes>"
      ]
     },
     "metadata": {},
     "output_type": "display_data"
    }
   ],
   "source": [
    "transformet_df['gw_7_days'] = transformet_df['gw_7_days'].apply(lambda x:np.sign(x)*(np.log(abs(x)+ 10) - np.log(10)))\n",
    "transformet_df['egw_7_days'] = transformet_df['egw_7_days'].apply(lambda x:np.sign(x)*(np.log(abs(x)+ 0.001) - np.log(0.001)))\n",
    "transformet_df['bet_7_days'] = transformet_df['bet_7_days'].apply(lambda x:np.sign(x)*(np.log(abs(x)+ 0.01) - np.log(0.01)))\n",
    "transformet_df['number_of_bets_7_days'] = transformet_df['number_of_bets_7_days'].apply(lambda x:np.sign(x)*(np.log(abs(x)+ 0.01) - np.log(0.01)))\n",
    "transformet_df['number_of_games_7_days'] = transformet_df['number_of_games_7_days'].apply(lambda x:np.sign(x)*(np.log(abs(x)+ 1) - np.log(1)))\n",
    "transformet_df[['gw_7_days','egw_7_days','bet_7_days','number_of_bets_7_days','number_of_games_7_days']].hist(bins = 10, figsize = (20,15))\n"
   ]
  },
  {
   "cell_type": "markdown",
   "metadata": {},
   "source": [
    "### Normalization"
   ]
  },
  {
   "cell_type": "code",
   "execution_count": 13,
   "metadata": {},
   "outputs": [
    {
     "data": {
      "text/plain": [
       "(0.0, 1.0)"
      ]
     },
     "execution_count": 13,
     "metadata": {},
     "output_type": "execute_result"
    }
   ],
   "source": [
    "min_max_scaler = preprocessing.MinMaxScaler()\n",
    "\n",
    "#change type to float\n",
    "float_array = transformet_df[['gw_7_days','egw_7_days','bet_7_days','number_of_bets_7_days','number_of_games_7_days']].values.astype(float)\n",
    "scaled_array = min_max_scaler.fit_transform(float_array)\n",
    "np.min(scaled_array), np.max(scaled_array)"
   ]
  },
  {
   "cell_type": "code",
   "execution_count": 14,
   "metadata": {},
   "outputs": [],
   "source": [
    "#create data frame for normalized data\n",
    "scaled_df = pd.DataFrame(data=scaled_array)\n",
    "scaled_df.columns = ['gw_7_days','egw_7_days','bet_7_days','number_of_bets_7_days','number_of_games_7_days']"
   ]
  },
  {
   "cell_type": "code",
   "execution_count": 15,
   "metadata": {},
   "outputs": [
    {
     "data": {
      "image/png": "[encoded data removed]",
      "text/plain": [
       "<Figure size 1440x1080 with 6 Axes>"
      ]
     },
     "metadata": {},
     "output_type": "display_data"
    }
   ],
   "source": [
    "scaled_df.hist(bins = 10, figsize = (20,15));"
   ]
  },
  {
   "cell_type": "markdown",
   "metadata": {},
   "source": [
    "# Machine learning algorithms"
   ]
  },
  {
   "cell_type": "markdown",
   "metadata": {},
   "source": [
    "## Logistic Regretion"
   ]
  },
  {
   "cell_type": "markdown",
   "metadata": {},
   "source": [
    "### Raw data"
   ]
  },
  {
   "cell_type": "code",
   "execution_count": 17,
   "metadata": {
    "scrolled": true
   },
   "outputs": [
    {
     "name": "stdout",
     "output_type": "stream",
     "text": [
      "Confusion matrix below:\n"
     ]
    },
    {
     "data": {
      "text/plain": [
       "array([[   106,    365],\n",
       "       [    67, 722465]], dtype=int64)"
      ]
     },
     "execution_count": 17,
     "metadata": {},
     "output_type": "execute_result"
    },
    {
     "name": "stdout",
     "output_type": "stream",
     "text": [
      "Accurancy: 1.00\n",
      "Precision: 0.61\n",
      "Recall: 0.23\n"
     ]
    }
   ],
   "source": [
    "y_raw = df['high_roller_mark']\n",
    "X_raw = df[['gw_7_days','egw_7_days','bet_7_days','number_of_bets_7_days','number_of_games_7_days']]\n",
    "\n",
    "x_train, x_test, y_train, y_test = train_test_split( X_raw, y_raw, test_size=0.3, random_state=0)\n",
    "model = LogisticRegression().fit(x_train, y_train) \n",
    "y_pred=model.predict(x_test)\n",
    "\n",
    "print(\"Confusion matrix below:\")\n",
    "confusion_matrix(y_test, y_pred, labels=[1,0])\n",
    "\n",
    "print('Accurancy: {0:.2f}'.format(accuracy_score(y_test, y_pred)))\n",
    "print('Precision: {0:.2f}'.format(precision_score(y_test, y_pred)))\n",
    "print('Recall: {0:.2f}'.format(recall_score(y_test, y_pred)))"
   ]
  },
  {
   "cell_type": "code",
   "execution_count": 18,
   "metadata": {},
   "outputs": [
    {
     "name": "stdout",
     "output_type": "stream",
     "text": [
      "Number of predicted labels\n",
      "[[     0      1]\n",
      " [722830    173]]\n"
     ]
    }
   ],
   "source": [
    "unique, counts = np.unique(y_pred, return_counts=True)\n",
    "print(\"Number of predicted labels\")\n",
    "print(np.asarray((unique, counts)))"
   ]
  },
  {
   "cell_type": "code",
   "execution_count": 19,
   "metadata": {},
   "outputs": [
    {
     "name": "stdout",
     "output_type": "stream",
     "text": [
      "Confusion matrix train below:\n",
      "Accurancy: 1.00\n",
      "Precision: 0.64\n",
      "Recall: 0.23\n"
     ]
    }
   ],
   "source": [
    "#checking stability on train dataset\n",
    "y_pred=model.predict(x_train)\n",
    "print(\"Confusion matrix train below:\")\n",
    "\n",
    "print('Accurancy: {0:.2f}'.format(accuracy_score(y_train, y_pred)))\n",
    "print('Precision: {0:.2f}'.format(precision_score(y_train, y_pred)))\n",
    "print('Recall: {0:.2f}'.format(recall_score(y_train, y_pred)))"
   ]
  },
  {
   "cell_type": "markdown",
   "metadata": {},
   "source": [
    "### Normalized data"
   ]
  },
  {
   "cell_type": "code",
   "execution_count": 20,
   "metadata": {},
   "outputs": [
    {
     "name": "stdout",
     "output_type": "stream",
     "text": [
      "Confusion matrix below:\n"
     ]
    },
    {
     "data": {
      "text/plain": [
       "array([[    44,    427],\n",
       "       [     9, 722523]], dtype=int64)"
      ]
     },
     "execution_count": 20,
     "metadata": {},
     "output_type": "execute_result"
    },
    {
     "name": "stdout",
     "output_type": "stream",
     "text": [
      "Accurancy: 1.00\n",
      "Precision: 0.83\n",
      "Recall: 0.09\n"
     ]
    }
   ],
   "source": [
    "y_raw = df['high_roller_mark']\n",
    "X_raw = scaled_df[['gw_7_days','egw_7_days','bet_7_days','number_of_bets_7_days','number_of_games_7_days']]\n",
    "\n",
    "x_train, x_test, y_train, y_test = train_test_split( X_raw, y_raw, test_size=0.3, random_state=0)\n",
    "model = LogisticRegression().fit(x_train, y_train) \n",
    "\n",
    "y_pred=model.predict(x_test)\n",
    "\n",
    "\n",
    "print(\"Confusion matrix below:\")\n",
    "confusion_matrix(y_test, y_pred, labels=[1,0])\n",
    "\n",
    "print('Accurancy: {0:.2f}'.format(accuracy_score(y_test, y_pred)))\n",
    "print('Precision: {0:.2f}'.format(precision_score(y_test, y_pred)))\n",
    "print('Recall: {0:.2f}'.format(recall_score(y_test, y_pred)))"
   ]
  },
  {
   "cell_type": "code",
   "execution_count": 21,
   "metadata": {},
   "outputs": [
    {
     "name": "stdout",
     "output_type": "stream",
     "text": [
      "Number of predicted labels:\n",
      "[[     0      1]\n",
      " [722950     53]]\n"
     ]
    }
   ],
   "source": [
    "unique, counts = np.unique(y_pred, return_counts=True)\n",
    "print(\"Number of predicted labels:\")\n",
    "print(np.asarray((unique, counts)))"
   ]
  },
  {
   "cell_type": "code",
   "execution_count": 22,
   "metadata": {},
   "outputs": [
    {
     "name": "stdout",
     "output_type": "stream",
     "text": [
      "Confusion matrix train below:\n",
      "Accurancy: 1.00\n",
      "Precision: 0.81\n",
      "Recall: 0.10\n"
     ]
    }
   ],
   "source": [
    "#checking stability on train dataset\n",
    "y_pred=model.predict(x_train)\n",
    "print(\"Confusion matrix train below:\")\n",
    "\n",
    "print('Accurancy: {0:.2f}'.format(accuracy_score(y_train, y_pred)))\n",
    "print('Precision: {0:.2f}'.format(precision_score(y_train, y_pred)))\n",
    "print('Recall: {0:.2f}'.format(recall_score(y_train, y_pred)))"
   ]
  },
  {
   "cell_type": "markdown",
   "metadata": {},
   "source": [
    "### Transformed data"
   ]
  },
  {
   "cell_type": "code",
   "execution_count": 23,
   "metadata": {},
   "outputs": [
    {
     "name": "stdout",
     "output_type": "stream",
     "text": [
      "Confusion matrix below:\n"
     ]
    },
    {
     "data": {
      "text/plain": [
       "array([[    63,    408],\n",
       "       [    19, 722513]], dtype=int64)"
      ]
     },
     "execution_count": 23,
     "metadata": {},
     "output_type": "execute_result"
    },
    {
     "name": "stdout",
     "output_type": "stream",
     "text": [
      "Accurancy: 1.00\n",
      "Precision: 0.77\n",
      "Recall: 0.13\n"
     ]
    }
   ],
   "source": [
    "y_raw = transformet_df['high_roller_mark']\n",
    "X_raw = transformet_df[['gw_7_days','egw_7_days','bet_7_days','number_of_bets_7_days','number_of_games_7_days']]\n",
    "\n",
    "x_train, x_test, y_train, y_test = train_test_split( X_raw, y_raw, test_size=0.3, random_state=0)\n",
    "model = LogisticRegression().fit(x_train, y_train) \n",
    "y_pred=model.predict(x_test)\n",
    "\n",
    "\n",
    "print(\"Confusion matrix below:\")\n",
    "confusion_matrix(y_test, y_pred, labels=[1,0])\n",
    "\n",
    "print('Accurancy: {0:.2f}'.format(accuracy_score(y_test, y_pred)))\n",
    "print('Precision: {0:.2f}'.format(precision_score(y_test, y_pred)))\n",
    "print('Recall: {0:.2f}'.format(recall_score(y_test, y_pred)))"
   ]
  },
  {
   "cell_type": "code",
   "execution_count": 24,
   "metadata": {},
   "outputs": [
    {
     "name": "stdout",
     "output_type": "stream",
     "text": [
      "Number of predicted labels:\n",
      "[[     0      1]\n",
      " [722921     82]]\n"
     ]
    }
   ],
   "source": [
    "unique, counts = np.unique(y_pred, return_counts=True)\n",
    "print(\"Number of predicted labels:\")\n",
    "print(np.asarray((unique, counts)))"
   ]
  },
  {
   "cell_type": "code",
   "execution_count": 25,
   "metadata": {},
   "outputs": [
    {
     "name": "stdout",
     "output_type": "stream",
     "text": [
      "Confusion matrix train below:\n",
      "Accurancy: 1.00\n",
      "Precision: 0.71\n",
      "Recall: 0.14\n"
     ]
    }
   ],
   "source": [
    "#checking stability on train dataset\n",
    "y_pred=model.predict(x_train)\n",
    "print(\"Confusion matrix train below:\")\n",
    "\n",
    "print('Accurancy: {0:.2f}'.format(accuracy_score(y_train, y_pred)))\n",
    "print('Precision: {0:.2f}'.format(precision_score(y_train, y_pred)))\n",
    "print('Recall: {0:.2f}'.format(recall_score(y_train, y_pred)))"
   ]
  },
  {
   "cell_type": "markdown",
   "metadata": {},
   "source": [
    "### Balanced data"
   ]
  },
  {
   "cell_type": "code",
   "execution_count": 61,
   "metadata": {},
   "outputs": [
    {
     "name": "stdout",
     "output_type": "stream",
     "text": [
      "Confusion matrix below:\n"
     ]
    },
    {
     "data": {
      "text/plain": [
       "array([[ 1922,  1037],\n",
       "       [  141, 29900]], dtype=int64)"
      ]
     },
     "execution_count": 61,
     "metadata": {},
     "output_type": "execute_result"
    },
    {
     "name": "stdout",
     "output_type": "stream",
     "text": [
      "Accurancy: 0.96\n",
      "Precision: 0.93\n",
      "Recall: 0.65\n"
     ]
    }
   ],
   "source": [
    "y_raw = balanced_df['high_roller_mark']\n",
    "X_raw = balanced_df[['gw_7_days','egw_7_days','bet_7_days','number_of_bets_7_days','number_of_games_7_days']]\n",
    "\n",
    "x_train, x_test, y_train, y_test = train_test_split( X_raw, y_raw, test_size=0.3, random_state=0)\n",
    "model = LogisticRegression().fit(x_train, y_train) \n",
    "y_pred=model.predict(x_test)\n",
    "\n",
    "\n",
    "print(\"Confusion matrix below:\")\n",
    "confusion_matrix(y_test, y_pred, labels=[1,0])\n",
    "\n",
    "print('Accurancy: {0:.2f}'.format(accuracy_score(y_test, y_pred)))\n",
    "print('Precision: {0:.2f}'.format(precision_score(y_test, y_pred)))\n",
    "print('Recall: {0:.2f}'.format(recall_score(y_test, y_pred)))"
   ]
  },
  {
   "cell_type": "code",
   "execution_count": 62,
   "metadata": {},
   "outputs": [
    {
     "name": "stdout",
     "output_type": "stream",
     "text": [
      "Number of predicted labels:\n",
      "[[    0     1]\n",
      " [30937  2063]]\n"
     ]
    }
   ],
   "source": [
    "unique, counts = np.unique(y_pred, return_counts=True)\n",
    "print(\"Number of predicted labels:\")\n",
    "print(np.asarray((unique, counts)))"
   ]
  },
  {
   "cell_type": "code",
   "execution_count": 63,
   "metadata": {},
   "outputs": [
    {
     "name": "stdout",
     "output_type": "stream",
     "text": [
      "Confusion matrix below:\n"
     ]
    },
    {
     "data": {
      "text/plain": [
       "array([[   288,    183],\n",
       "       [  3132, 719400]], dtype=int64)"
      ]
     },
     "execution_count": 63,
     "metadata": {},
     "output_type": "execute_result"
    },
    {
     "name": "stdout",
     "output_type": "stream",
     "text": [
      "Accurancy: 1.00\n",
      "Precision: 0.08\n",
      "Recall: 0.61\n"
     ]
    }
   ],
   "source": [
    "#again the same but without creating model!\n",
    "y_raw = df['high_roller_mark']\n",
    "X_raw = df[['gw_7_days','egw_7_days','bet_7_days','number_of_bets_7_days','number_of_games_7_days']]\n",
    "x_train, x_test, y_train, y_test = train_test_split( X_raw, y_raw, test_size=0.3, random_state=0)\n",
    "\n",
    "y_pred=model.predict(x_test)\n",
    "\n",
    "print(\"Confusion matrix below:\")\n",
    "confusion_matrix(y_test, y_pred, labels=[1,0])\n",
    "\n",
    "print('Accurancy: {0:.2f}'.format(accuracy_score(y_test, y_pred)))\n",
    "print('Precision: {0:.2f}'.format(precision_score(y_test, y_pred)))\n",
    "print('Recall: {0:.2f}'.format(recall_score(y_test, y_pred)))"
   ]
  },
  {
   "cell_type": "code",
   "execution_count": 30,
   "metadata": {},
   "outputs": [
    {
     "name": "stdout",
     "output_type": "stream",
     "text": [
      "Number of predicted labels:\n",
      "[[     0      1]\n",
      " [719583   3420]]\n"
     ]
    }
   ],
   "source": [
    "unique, counts = np.unique(y_pred, return_counts=True)\n",
    "print(\"Number of predicted labels:\")\n",
    "print(np.asarray((unique, counts)))"
   ]
  },
  {
   "cell_type": "code",
   "execution_count": 64,
   "metadata": {},
   "outputs": [
    {
     "name": "stdout",
     "output_type": "stream",
     "text": [
      "Confusion matrix train below:\n",
      "Accurancy: 1.00\n",
      "Precision: 0.09\n",
      "Recall: 0.66\n"
     ]
    }
   ],
   "source": [
    "#checking stability on train dataset\n",
    "y_pred=model.predict(x_train)\n",
    "print(\"Confusion matrix train below:\")\n",
    "\n",
    "print('Accurancy: {0:.2f}'.format(accuracy_score(y_train, y_pred)))\n",
    "print('Precision: {0:.2f}'.format(precision_score(y_train, y_pred)))\n",
    "print('Recall: {0:.2f}'.format(recall_score(y_train, y_pred)))"
   ]
  },
  {
   "cell_type": "markdown",
   "metadata": {},
   "source": [
    "## Random Forest"
   ]
  },
  {
   "cell_type": "markdown",
   "metadata": {},
   "source": [
    "### Looking the best number of estimators"
   ]
  },
  {
   "cell_type": "code",
   "execution_count": 41,
   "metadata": {},
   "outputs": [
    {
     "data": {
      "text/plain": [
       "<matplotlib.legend.Legend at 0x2af84d65080>"
      ]
     },
     "execution_count": 41,
     "metadata": {},
     "output_type": "execute_result"
    },
    {
     "data": {
      "text/plain": [
       "Text(0,0.5,'AUC score')"
      ]
     },
     "execution_count": 41,
     "metadata": {},
     "output_type": "execute_result"
    },
    {
     "data": {
      "text/plain": [
       "Text(0.5,0,'n_estimators')"
      ]
     },
     "execution_count": 41,
     "metadata": {},
     "output_type": "execute_result"
    },
    {
     "data": {
      "image/png": "[encoded data removed]",
      "text/plain": [
       "<Figure size 432x288 with 1 Axes>"
      ]
     },
     "metadata": {},
     "output_type": "display_data"
    }
   ],
   "source": [
    "y_raw = df['high_roller_mark']\n",
    "X_raw = df[['gw_7_days','egw_7_days','bet_7_days','number_of_bets_7_days','number_of_games_7_days']]\n",
    "x_train, x_test, y_train, y_test = train_test_split( X_raw, y_raw, test_size=0.3, random_state=0)\n",
    "\n",
    "\n",
    "n_estimators = [1, 2, 5, 8, 10, 12, 15, 20, 25]\n",
    "train_results = []\n",
    "test_results = []\n",
    "for estimator in n_estimators:\n",
    "    rf = RandomForestClassifier(n_estimators=estimator, max_depth = 3, n_jobs=-1)\n",
    "    rf = rf.fit(x_train, y_train)\n",
    "    train_pred = rf.predict(x_train)\n",
    "    false_positive_rate, true_positive_rate, thresholds = roc_curve(y_train, train_pred)\n",
    "    roc_auc = auc(false_positive_rate, true_positive_rate)\n",
    "    train_results.append(roc_auc)\n",
    "    y_pred = rf.predict(x_test)\n",
    "    false_positive_rate, true_positive_rate, thresholds = roc_curve(y_test, y_pred)\n",
    "    roc_auc = auc(false_positive_rate, true_positive_rate)\n",
    "    test_results.append(roc_auc)\n",
    "from matplotlib.legend_handler import HandlerLine2D\n",
    "line1, = plt.plot(n_estimators, train_results, 'b', label='Train AUC')\n",
    "line2, = plt.plot(n_estimators, test_results, 'r', label='Test AUC')\n",
    "plt.legend(handler_map={line1: HandlerLine2D(numpoints=2)})\n",
    "plt.ylabel('AUC score')\n",
    "plt.xlabel('n_estimators')\n",
    "plt.show()"
   ]
  },
  {
   "cell_type": "markdown",
   "metadata": {},
   "source": [
    "### Looking the best max depth"
   ]
  },
  {
   "cell_type": "code",
   "execution_count": 40,
   "metadata": {},
   "outputs": [
    {
     "name": "stderr",
     "output_type": "stream",
     "text": [
      "C:\\ProgramData\\Anaconda3\\lib\\site-packages\\sklearn\\preprocessing\\label.py:151: DeprecationWarning: The truth value of an empty array is ambiguous. Returning False, but in future this will result in an error. Use `array.size > 0` to check that an array is not empty.\n",
      "  if diff:\n",
      "C:\\ProgramData\\Anaconda3\\lib\\site-packages\\sklearn\\preprocessing\\label.py:151: DeprecationWarning: The truth value of an empty array is ambiguous. Returning False, but in future this will result in an error. Use `array.size > 0` to check that an array is not empty.\n",
      "  if diff:\n",
      "C:\\ProgramData\\Anaconda3\\lib\\site-packages\\sklearn\\preprocessing\\label.py:151: DeprecationWarning: The truth value of an empty array is ambiguous. Returning False, but in future this will result in an error. Use `array.size > 0` to check that an array is not empty.\n",
      "  if diff:\n",
      "C:\\ProgramData\\Anaconda3\\lib\\site-packages\\sklearn\\preprocessing\\label.py:151: DeprecationWarning: The truth value of an empty array is ambiguous. Returning False, but in future this will result in an error. Use `array.size > 0` to check that an array is not empty.\n",
      "  if diff:\n",
      "C:\\ProgramData\\Anaconda3\\lib\\site-packages\\sklearn\\preprocessing\\label.py:151: DeprecationWarning: The truth value of an empty array is ambiguous. Returning False, but in future this will result in an error. Use `array.size > 0` to check that an array is not empty.\n",
      "  if diff:\n",
      "C:\\ProgramData\\Anaconda3\\lib\\site-packages\\sklearn\\preprocessing\\label.py:151: DeprecationWarning: The truth value of an empty array is ambiguous. Returning False, but in future this will result in an error. Use `array.size > 0` to check that an array is not empty.\n",
      "  if diff:\n",
      "C:\\ProgramData\\Anaconda3\\lib\\site-packages\\sklearn\\preprocessing\\label.py:151: DeprecationWarning: The truth value of an empty array is ambiguous. Returning False, but in future this will result in an error. Use `array.size > 0` to check that an array is not empty.\n",
      "  if diff:\n",
      "C:\\ProgramData\\Anaconda3\\lib\\site-packages\\sklearn\\preprocessing\\label.py:151: DeprecationWarning: The truth value of an empty array is ambiguous. Returning False, but in future this will result in an error. Use `array.size > 0` to check that an array is not empty.\n",
      "  if diff:\n",
      "C:\\ProgramData\\Anaconda3\\lib\\site-packages\\sklearn\\preprocessing\\label.py:151: DeprecationWarning: The truth value of an empty array is ambiguous. Returning False, but in future this will result in an error. Use `array.size > 0` to check that an array is not empty.\n",
      "  if diff:\n",
      "C:\\ProgramData\\Anaconda3\\lib\\site-packages\\sklearn\\preprocessing\\label.py:151: DeprecationWarning: The truth value of an empty array is ambiguous. Returning False, but in future this will result in an error. Use `array.size > 0` to check that an array is not empty.\n",
      "  if diff:\n",
      "C:\\ProgramData\\Anaconda3\\lib\\site-packages\\sklearn\\preprocessing\\label.py:151: DeprecationWarning: The truth value of an empty array is ambiguous. Returning False, but in future this will result in an error. Use `array.size > 0` to check that an array is not empty.\n",
      "  if diff:\n",
      "C:\\ProgramData\\Anaconda3\\lib\\site-packages\\sklearn\\preprocessing\\label.py:151: DeprecationWarning: The truth value of an empty array is ambiguous. Returning False, but in future this will result in an error. Use `array.size > 0` to check that an array is not empty.\n",
      "  if diff:\n",
      "C:\\ProgramData\\Anaconda3\\lib\\site-packages\\sklearn\\preprocessing\\label.py:151: DeprecationWarning: The truth value of an empty array is ambiguous. Returning False, but in future this will result in an error. Use `array.size > 0` to check that an array is not empty.\n",
      "  if diff:\n",
      "C:\\ProgramData\\Anaconda3\\lib\\site-packages\\sklearn\\preprocessing\\label.py:151: DeprecationWarning: The truth value of an empty array is ambiguous. Returning False, but in future this will result in an error. Use `array.size > 0` to check that an array is not empty.\n",
      "  if diff:\n"
     ]
    },
    {
     "data": {
      "text/plain": [
       "<matplotlib.legend.Legend at 0x2af84bc8da0>"
      ]
     },
     "execution_count": 40,
     "metadata": {},
     "output_type": "execute_result"
    },
    {
     "data": {
      "text/plain": [
       "Text(0,0.5,'AUC score')"
      ]
     },
     "execution_count": 40,
     "metadata": {},
     "output_type": "execute_result"
    },
    {
     "data": {
      "text/plain": [
       "Text(0.5,0,'Tree depth')"
      ]
     },
     "execution_count": 40,
     "metadata": {},
     "output_type": "execute_result"
    },
    {
     "data": {
      "image/png": "[encoded data removed]",
      "text/plain": [
       "<Figure size 432x288 with 1 Axes>"
      ]
     },
     "metadata": {},
     "output_type": "display_data"
    }
   ],
   "source": [
    "y_raw = df['high_roller_mark']\n",
    "X_raw = df[['gw_7_days','egw_7_days','bet_7_days','number_of_bets_7_days','number_of_games_7_days']]\n",
    "x_train, x_test, y_train, y_test = train_test_split( X_raw, y_raw, test_size=0.3, random_state=0)\n",
    "\n",
    "\n",
    "#max_depths = np.linspace(1, 32, 32, endpoint = True) dosen't work for XGBoost\n",
    "max_depths = [1, 2, 5, 8, 10, 12, 15]\n",
    "\n",
    "train_results = []\n",
    "test_results = []\n",
    "for max_depth in max_depths:\n",
    "    rf = XGBClassifier(max_depth=max_depth, n_jobs=-1)\n",
    "    rf=rf.fit(x_train, y_train)\n",
    "    train_pred = rf.predict(x_train)\n",
    "    false_positive_rate, true_positive_rate, thresholds = roc_curve(y_train, train_pred)\n",
    "    roc_auc = auc(false_positive_rate, true_positive_rate)\n",
    "    train_results.append(roc_auc)\n",
    "    y_pred = rf.predict(x_test)\n",
    "    false_positive_rate, true_positive_rate, thresholds = roc_curve(y_test, y_pred)\n",
    "    roc_auc = auc(false_positive_rate, true_positive_rate)\n",
    "    test_results.append(roc_auc)\n",
    "from matplotlib.legend_handler import HandlerLine2D\n",
    "line1, = plt.plot(max_depths, train_results, 'b', label='Train AUC')\n",
    "line2, = plt.plot(max_depths, test_results, 'r', label='Test AUC')\n",
    "plt.legend(handler_map={line1: HandlerLine2D(numpoints=2)})\n",
    "plt.ylabel('AUC score')\n",
    "plt.xlabel('Tree depth')\n",
    "plt.show()"
   ]
  },
  {
   "cell_type": "markdown",
   "metadata": {},
   "source": [
    "### Raw data"
   ]
  },
  {
   "cell_type": "code",
   "execution_count": 42,
   "metadata": {},
   "outputs": [
    {
     "name": "stdout",
     "output_type": "stream",
     "text": [
      "Confusion matrix below:\n"
     ]
    },
    {
     "data": {
      "text/plain": [
       "array([[   120,    351],\n",
       "       [     7, 722525]], dtype=int64)"
      ]
     },
     "execution_count": 42,
     "metadata": {},
     "output_type": "execute_result"
    },
    {
     "name": "stdout",
     "output_type": "stream",
     "text": [
      "Accurancy: 1.00\n",
      "Precision: 0.94\n",
      "Recall: 0.25\n"
     ]
    }
   ],
   "source": [
    "y_raw = df['high_roller_mark']\n",
    "X_raw = df[['gw_7_days','egw_7_days','bet_7_days','number_of_bets_7_days','number_of_games_7_days']]\n",
    "x_train, x_test, y_train, y_test = train_test_split( X_raw, y_raw, test_size=0.3, random_state=0)\n",
    "\n",
    "\n",
    "model = RandomForestClassifier(max_depth = 3, n_estimators = 5).fit(x_train, y_train) \n",
    "\n",
    "print(\"Confusion matrix below:\")\n",
    "confusion_matrix(y_test, y_pred, labels=[1,0])\n",
    "\n",
    "print('Accurancy: {0:.2f}'.format(accuracy_score(y_test, y_pred)))\n",
    "print('Precision: {0:.2f}'.format(precision_score(y_test, y_pred)))\n",
    "print('Recall: {0:.2f}'.format(recall_score(y_test, y_pred)))"
   ]
  },
  {
   "cell_type": "code",
   "execution_count": 43,
   "metadata": {},
   "outputs": [
    {
     "name": "stdout",
     "output_type": "stream",
     "text": [
      "Number of predicted labels:\n",
      "[[     0      1]\n",
      " [722876    127]]\n"
     ]
    }
   ],
   "source": [
    "unique, counts = np.unique(y_pred, return_counts=True)\n",
    "print(\"Number of predicted labels:\")\n",
    "print(np.asarray((unique, counts)))"
   ]
  },
  {
   "cell_type": "code",
   "execution_count": 44,
   "metadata": {},
   "outputs": [
    {
     "name": "stdout",
     "output_type": "stream",
     "text": [
      "Confusion matrix train below:\n",
      "Accurancy: 1.00\n",
      "Precision: 0.97\n",
      "Recall: 0.27\n"
     ]
    }
   ],
   "source": [
    "#checking stability on train dataset\n",
    "y_pred=model.predict(x_train)\n",
    "print(\"Confusion matrix train below:\")\n",
    "\n",
    "print('Accurancy: {0:.2f}'.format(accuracy_score(y_train, y_pred)))\n",
    "print('Precision: {0:.2f}'.format(precision_score(y_train, y_pred)))\n",
    "print('Recall: {0:.2f}'.format(recall_score(y_train, y_pred)))"
   ]
  },
  {
   "cell_type": "markdown",
   "metadata": {},
   "source": [
    "### Normalized data"
   ]
  },
  {
   "cell_type": "code",
   "execution_count": 45,
   "metadata": {},
   "outputs": [
    {
     "name": "stdout",
     "output_type": "stream",
     "text": [
      "Confusion matrix below:\n"
     ]
    },
    {
     "data": {
      "text/plain": [
       "array([[   118,    353],\n",
       "       [     8, 722524]], dtype=int64)"
      ]
     },
     "execution_count": 45,
     "metadata": {},
     "output_type": "execute_result"
    },
    {
     "name": "stdout",
     "output_type": "stream",
     "text": [
      "Accurancy: 1.00\n",
      "Precision: 0.94\n",
      "Recall: 0.25\n"
     ]
    }
   ],
   "source": [
    "y_raw = df['high_roller_mark']\n",
    "X_raw = scaled_df[['gw_7_days','egw_7_days','bet_7_days','number_of_bets_7_days','number_of_games_7_days']]\n",
    "x_train, x_test, y_train, y_test = train_test_split( X_raw, y_raw, test_size=0.3, random_state=0)\n",
    "\n",
    "\n",
    "model = RandomForestClassifier(max_depth = 3, n_estimators = 5).fit(x_train, y_train) \n",
    "y_pred=model.predict(x_test)\n",
    "\n",
    "print(\"Confusion matrix below:\")\n",
    "confusion_matrix(y_test, y_pred, labels=[1,0])\n",
    "\n",
    "print('Accurancy: {0:.2f}'.format(accuracy_score(y_test, y_pred)))\n",
    "print('Precision: {0:.2f}'.format(precision_score(y_test, y_pred)))\n",
    "print('Recall: {0:.2f}'.format(recall_score(y_test, y_pred)))"
   ]
  },
  {
   "cell_type": "code",
   "execution_count": 46,
   "metadata": {},
   "outputs": [
    {
     "name": "stdout",
     "output_type": "stream",
     "text": [
      "Number of predicted labels:\n",
      "[[     0      1]\n",
      " [722877    126]]\n"
     ]
    }
   ],
   "source": [
    "unique, counts = np.unique(y_pred, return_counts=True)\n",
    "print(\"Number of predicted labels:\")\n",
    "print(np.asarray((unique, counts)))"
   ]
  },
  {
   "cell_type": "code",
   "execution_count": 47,
   "metadata": {},
   "outputs": [
    {
     "name": "stdout",
     "output_type": "stream",
     "text": [
      "Confusion matrix train below:\n",
      "Accurancy: 1.00\n",
      "Precision: 0.94\n",
      "Recall: 0.26\n"
     ]
    }
   ],
   "source": [
    "#checking stability on train dataset\n",
    "y_pred=model.predict(x_train)\n",
    "print(\"Confusion matrix train below:\")\n",
    "\n",
    "print('Accurancy: {0:.2f}'.format(accuracy_score(y_train, y_pred)))\n",
    "print('Precision: {0:.2f}'.format(precision_score(y_train, y_pred)))\n",
    "print('Recall: {0:.2f}'.format(recall_score(y_train, y_pred)))"
   ]
  },
  {
   "cell_type": "markdown",
   "metadata": {},
   "source": [
    "### Transformed data"
   ]
  },
  {
   "cell_type": "code",
   "execution_count": 52,
   "metadata": {},
   "outputs": [
    {
     "name": "stdout",
     "output_type": "stream",
     "text": [
      "Confusion matrix below:\n"
     ]
    },
    {
     "data": {
      "text/plain": [
       "array([[   109,    362],\n",
       "       [     7, 722525]], dtype=int64)"
      ]
     },
     "execution_count": 52,
     "metadata": {},
     "output_type": "execute_result"
    },
    {
     "name": "stdout",
     "output_type": "stream",
     "text": [
      "Accurancy: 1.00\n",
      "Precision: 0.94\n",
      "Recall: 0.23\n"
     ]
    }
   ],
   "source": [
    "y_raw = transformet_df['high_roller_mark']\n",
    "X_raw = transformet_df[['gw_7_days','egw_7_days','bet_7_days','number_of_bets_7_days','number_of_games_7_days']]\n",
    "x_train, x_test, y_train, y_test = train_test_split( X_raw, y_raw, test_size=0.3, random_state=0)\n",
    "\n",
    "\n",
    "model = RandomForestClassifier(max_depth = 3, n_estimators = 5).fit(x_train, y_train) \n",
    "y_pred=model.predict(x_test)\n",
    "\n",
    "print(\"Confusion matrix below:\")\n",
    "confusion_matrix(y_test, y_pred, labels=[1,0])\n",
    "\n",
    "print('Accurancy: {0:.2f}'.format(accuracy_score(y_test, y_pred)))\n",
    "print('Precision: {0:.2f}'.format(precision_score(y_test, y_pred)))\n",
    "print('Recall: {0:.2f}'.format(recall_score(y_test, y_pred)))"
   ]
  },
  {
   "cell_type": "code",
   "execution_count": 53,
   "metadata": {},
   "outputs": [
    {
     "name": "stdout",
     "output_type": "stream",
     "text": [
      "Number of predicted labels:\n",
      "[[     0      1]\n",
      " [722887    116]]\n"
     ]
    }
   ],
   "source": [
    "unique, counts = np.unique(y_pred, return_counts=True)\n",
    "print(\"Number of predicted labels:\")\n",
    "print(np.asarray((unique, counts)))"
   ]
  },
  {
   "cell_type": "code",
   "execution_count": 54,
   "metadata": {},
   "outputs": [
    {
     "name": "stdout",
     "output_type": "stream",
     "text": [
      "Confusion matrix train below:\n",
      "Accurancy: 1.00\n",
      "Precision: 0.97\n",
      "Recall: 0.26\n"
     ]
    }
   ],
   "source": [
    "#checking stability on train dataset\n",
    "y_pred=model.predict(x_train)\n",
    "print(\"Confusion matrix train below:\")\n",
    "\n",
    "print('Accurancy: {0:.2f}'.format(accuracy_score(y_train, y_pred)))\n",
    "print('Precision: {0:.2f}'.format(precision_score(y_train, y_pred)))\n",
    "print('Recall: {0:.2f}'.format(recall_score(y_train, y_pred)))"
   ]
  },
  {
   "cell_type": "markdown",
   "metadata": {},
   "source": [
    "### Balanced data"
   ]
  },
  {
   "cell_type": "code",
   "execution_count": 55,
   "metadata": {},
   "outputs": [
    {
     "name": "stdout",
     "output_type": "stream",
     "text": [
      "Confusion matrix below:\n"
     ]
    },
    {
     "data": {
      "text/plain": [
       "array([[ 2146,   813],\n",
       "       [  227, 29814]], dtype=int64)"
      ]
     },
     "execution_count": 55,
     "metadata": {},
     "output_type": "execute_result"
    },
    {
     "name": "stdout",
     "output_type": "stream",
     "text": [
      "Accurancy: 0.97\n",
      "Precision: 0.90\n",
      "Recall: 0.73\n"
     ]
    }
   ],
   "source": [
    "y_raw = balanced_df['high_roller_mark']\n",
    "X_raw = balanced_df[['gw_7_days','egw_7_days','bet_7_days','number_of_bets_7_days','number_of_games_7_days']]\n",
    "x_train, x_test, y_train, y_test = train_test_split( X_raw, y_raw, test_size=0.3, random_state=0)\n",
    "\n",
    "model = RandomForestClassifier(max_depth = 3, n_estimators = 5).fit(x_train, y_train) \n",
    "y_pred=model.predict(x_test)\n",
    "\n",
    "\n",
    "print(\"Confusion matrix below:\")\n",
    "confusion_matrix(y_test, y_pred, labels=[1,0])\n",
    "\n",
    "print('Accurancy: {0:.2f}'.format(accuracy_score(y_test, y_pred)))\n",
    "print('Precision: {0:.2f}'.format(precision_score(y_test, y_pred)))\n",
    "print('Recall: {0:.2f}'.format(recall_score(y_test, y_pred)))"
   ]
  },
  {
   "cell_type": "code",
   "execution_count": 56,
   "metadata": {},
   "outputs": [
    {
     "name": "stdout",
     "output_type": "stream",
     "text": [
      "Number of predicted labels:\n",
      "[[    0     1]\n",
      " [30627  2373]]\n"
     ]
    }
   ],
   "source": [
    "unique, counts = np.unique(y_pred, return_counts=True)\n",
    "print(\"Number of predicted labels:\")\n",
    "print(np.asarray((unique, counts)))"
   ]
  },
  {
   "cell_type": "code",
   "execution_count": 58,
   "metadata": {},
   "outputs": [
    {
     "name": "stdout",
     "output_type": "stream",
     "text": [
      "Confusion matrix below:\n"
     ]
    },
    {
     "data": {
      "text/plain": [
       "array([[   331,    140],\n",
       "       [  5387, 717145]], dtype=int64)"
      ]
     },
     "execution_count": 58,
     "metadata": {},
     "output_type": "execute_result"
    },
    {
     "name": "stdout",
     "output_type": "stream",
     "text": [
      "Accurancy: 0.99\n",
      "Precision: 0.06\n",
      "Recall: 0.70\n"
     ]
    }
   ],
   "source": [
    "#again the same but without creating model!\n",
    "y_raw = df['high_roller_mark']\n",
    "X_raw = df[['gw_7_days','egw_7_days','bet_7_days','number_of_bets_7_days','number_of_games_7_days']]\n",
    "x_train, x_test, y_train, y_test = train_test_split( X_raw, y_raw, test_size=0.3, random_state=0)\n",
    "\n",
    "y_pred=model.predict(x_test)\n",
    "\n",
    "print(\"Confusion matrix below:\")\n",
    "confusion_matrix(y_test, y_pred, labels=[1,0])\n",
    "\n",
    "print('Accurancy: {0:.2f}'.format(accuracy_score(y_test, y_pred)))\n",
    "print('Precision: {0:.2f}'.format(precision_score(y_test, y_pred)))\n",
    "print('Recall: {0:.2f}'.format(recall_score(y_test, y_pred)))"
   ]
  },
  {
   "cell_type": "code",
   "execution_count": 59,
   "metadata": {},
   "outputs": [
    {
     "name": "stdout",
     "output_type": "stream",
     "text": [
      "Confusion matrix train below:\n",
      "Accurancy: 0.99\n",
      "Precision: 0.06\n",
      "Recall: 0.73\n"
     ]
    }
   ],
   "source": [
    "#checking stability on train dataset\n",
    "y_pred=model.predict(x_train)\n",
    "print(\"Confusion matrix train below:\")\n",
    "\n",
    "print('Accurancy: {0:.2f}'.format(accuracy_score(y_train, y_pred)))\n",
    "print('Precision: {0:.2f}'.format(precision_score(y_train, y_pred)))\n",
    "print('Recall: {0:.2f}'.format(recall_score(y_train, y_pred)))"
   ]
  },
  {
   "cell_type": "code",
   "execution_count": 60,
   "metadata": {},
   "outputs": [
    {
     "name": "stdout",
     "output_type": "stream",
     "text": [
      "Number of predicted labels:\n",
      "[[      0       1]\n",
      " [1673800   13207]]\n"
     ]
    }
   ],
   "source": [
    "unique, counts = np.unique(y_pred, return_counts=True)\n",
    "print(\"Number of predicted labels:\")\n",
    "print(np.asarray((unique, counts)))"
   ]
  },
  {
   "cell_type": "markdown",
   "metadata": {},
   "source": [
    "## XG Boost"
   ]
  },
  {
   "cell_type": "markdown",
   "metadata": {},
   "source": [
    "### Raw data"
   ]
  },
  {
   "cell_type": "code",
   "execution_count": 69,
   "metadata": {},
   "outputs": [
    {
     "name": "stderr",
     "output_type": "stream",
     "text": [
      "C:\\ProgramData\\Anaconda3\\lib\\site-packages\\sklearn\\preprocessing\\label.py:151: DeprecationWarning: The truth value of an empty array is ambiguous. Returning False, but in future this will result in an error. Use `array.size > 0` to check that an array is not empty.\n",
      "  if diff:\n"
     ]
    },
    {
     "name": "stdout",
     "output_type": "stream",
     "text": [
      "Confusion matrix below:\n"
     ]
    },
    {
     "data": {
      "text/plain": [
       "array([[   123,    348],\n",
       "       [    10, 722522]], dtype=int64)"
      ]
     },
     "execution_count": 69,
     "metadata": {},
     "output_type": "execute_result"
    },
    {
     "name": "stdout",
     "output_type": "stream",
     "text": [
      "Accurancy: 1.00\n",
      "Precision: 0.92\n",
      "Recall: 0.26\n"
     ]
    }
   ],
   "source": [
    "y_raw = df['high_roller_mark'].astype('category')\n",
    "X_raw = df[['gw_7_days','egw_7_days','bet_7_days','number_of_bets_7_days','number_of_games_7_days']]\n",
    "x_train, x_test, y_train, y_test = train_test_split( X_raw, y_raw, test_size=0.3, random_state=0)\n",
    "\n",
    "\n",
    "model = XGBClassifier(max_depth = 4).fit(x_train, y_train) \n",
    "y_pred=model.predict(x_test)\n",
    "\n",
    "print(\"Confusion matrix below:\")\n",
    "confusion_matrix(y_test, y_pred, labels=[1,0])\n",
    "\n",
    "print('Accurancy: {0:.2f}'.format(accuracy_score(y_test, y_pred)))\n",
    "print('Precision: {0:.2f}'.format(precision_score(y_test, y_pred)))\n",
    "print('Recall: {0:.2f}'.format(recall_score(y_test, y_pred)))"
   ]
  },
  {
   "cell_type": "code",
   "execution_count": 70,
   "metadata": {},
   "outputs": [
    {
     "name": "stdout",
     "output_type": "stream",
     "text": [
      "Number of predicted labels:\n",
      "[[     0      1]\n",
      " [722870    133]]\n"
     ]
    }
   ],
   "source": [
    "unique, counts = np.unique(y_pred, return_counts=True)\n",
    "print(\"Number of predicted labels:\")\n",
    "print(np.asarray((unique, counts)))"
   ]
  },
  {
   "cell_type": "code",
   "execution_count": 71,
   "metadata": {},
   "outputs": [
    {
     "name": "stderr",
     "output_type": "stream",
     "text": [
      "C:\\ProgramData\\Anaconda3\\lib\\site-packages\\sklearn\\preprocessing\\label.py:151: DeprecationWarning: The truth value of an empty array is ambiguous. Returning False, but in future this will result in an error. Use `array.size > 0` to check that an array is not empty.\n",
      "  if diff:\n"
     ]
    },
    {
     "name": "stdout",
     "output_type": "stream",
     "text": [
      "Confusion matrix train below:\n",
      "Accurancy: 1.00\n",
      "Precision: 0.97\n",
      "Recall: 0.28\n"
     ]
    }
   ],
   "source": [
    "#checking stability on train dataset\n",
    "y_pred=model.predict(x_train)\n",
    "print(\"Confusion matrix train below:\")\n",
    "\n",
    "print('Accurancy: {0:.2f}'.format(accuracy_score(y_train, y_pred)))\n",
    "print('Precision: {0:.2f}'.format(precision_score(y_train, y_pred)))\n",
    "print('Recall: {0:.2f}'.format(recall_score(y_train, y_pred)))"
   ]
  },
  {
   "cell_type": "markdown",
   "metadata": {},
   "source": [
    "### Normalized data"
   ]
  },
  {
   "cell_type": "code",
   "execution_count": 72,
   "metadata": {},
   "outputs": [
    {
     "name": "stderr",
     "output_type": "stream",
     "text": [
      "C:\\ProgramData\\Anaconda3\\lib\\site-packages\\sklearn\\preprocessing\\label.py:151: DeprecationWarning: The truth value of an empty array is ambiguous. Returning False, but in future this will result in an error. Use `array.size > 0` to check that an array is not empty.\n",
      "  if diff:\n"
     ]
    },
    {
     "name": "stdout",
     "output_type": "stream",
     "text": [
      "Confusion matrix below:\n"
     ]
    },
    {
     "data": {
      "text/plain": [
       "array([[   122,    349],\n",
       "       [    10, 722522]], dtype=int64)"
      ]
     },
     "execution_count": 72,
     "metadata": {},
     "output_type": "execute_result"
    },
    {
     "name": "stdout",
     "output_type": "stream",
     "text": [
      "Accurancy: 1.00\n",
      "Precision: 0.92\n",
      "Recall: 0.26\n"
     ]
    }
   ],
   "source": [
    "y_raw = df['high_roller_mark']\n",
    "X_raw = scaled_df[['gw_7_days','egw_7_days','bet_7_days','number_of_bets_7_days','number_of_games_7_days']]\n",
    "x_train, x_test, y_train, y_test = train_test_split( X_raw, y_raw, test_size=0.3, random_state=0)\n",
    "\n",
    "\n",
    "model = XGBClassifier(max_depth = 4).fit(x_train, y_train) \n",
    "y_pred=model.predict(x_test)\n",
    "\n",
    "print(\"Confusion matrix below:\")\n",
    "confusion_matrix(y_test, y_pred, labels=[1,0])\n",
    "\n",
    "print('Accurancy: {0:.2f}'.format(accuracy_score(y_test, y_pred)))\n",
    "print('Precision: {0:.2f}'.format(precision_score(y_test, y_pred)))\n",
    "print('Recall: {0:.2f}'.format(recall_score(y_test, y_pred)))"
   ]
  },
  {
   "cell_type": "code",
   "execution_count": 73,
   "metadata": {},
   "outputs": [
    {
     "name": "stdout",
     "output_type": "stream",
     "text": [
      "Number of predicted labels:\n",
      "[[     0      1]\n",
      " [722871    132]]\n"
     ]
    }
   ],
   "source": [
    "unique, counts = np.unique(y_pred, return_counts=True)\n",
    "print(\"Number of predicted labels:\")\n",
    "print(np.asarray((unique, counts)))"
   ]
  },
  {
   "cell_type": "code",
   "execution_count": 74,
   "metadata": {},
   "outputs": [
    {
     "name": "stderr",
     "output_type": "stream",
     "text": [
      "C:\\ProgramData\\Anaconda3\\lib\\site-packages\\sklearn\\preprocessing\\label.py:151: DeprecationWarning: The truth value of an empty array is ambiguous. Returning False, but in future this will result in an error. Use `array.size > 0` to check that an array is not empty.\n",
      "  if diff:\n"
     ]
    },
    {
     "name": "stdout",
     "output_type": "stream",
     "text": [
      "Confusion matrix train below:\n",
      "Accurancy: 1.00\n",
      "Precision: 0.97\n",
      "Recall: 0.28\n"
     ]
    }
   ],
   "source": [
    "#checking stability on train dataset\n",
    "y_pred=model.predict(x_train)\n",
    "print(\"Confusion matrix train below:\")\n",
    "\n",
    "print('Accurancy: {0:.2f}'.format(accuracy_score(y_train, y_pred)))\n",
    "print('Precision: {0:.2f}'.format(precision_score(y_train, y_pred)))\n",
    "print('Recall: {0:.2f}'.format(recall_score(y_train, y_pred)))"
   ]
  },
  {
   "cell_type": "markdown",
   "metadata": {},
   "source": [
    "### Transformed data"
   ]
  },
  {
   "cell_type": "code",
   "execution_count": 75,
   "metadata": {},
   "outputs": [
    {
     "name": "stderr",
     "output_type": "stream",
     "text": [
      "C:\\ProgramData\\Anaconda3\\lib\\site-packages\\sklearn\\preprocessing\\label.py:151: DeprecationWarning: The truth value of an empty array is ambiguous. Returning False, but in future this will result in an error. Use `array.size > 0` to check that an array is not empty.\n",
      "  if diff:\n"
     ]
    },
    {
     "name": "stdout",
     "output_type": "stream",
     "text": [
      "Confusion matrix below:\n"
     ]
    },
    {
     "data": {
      "text/plain": [
       "array([[   122,    349],\n",
       "       [    10, 722522]], dtype=int64)"
      ]
     },
     "execution_count": 75,
     "metadata": {},
     "output_type": "execute_result"
    },
    {
     "name": "stdout",
     "output_type": "stream",
     "text": [
      "Accurancy: 1.00\n",
      "Precision: 0.92\n",
      "Recall: 0.26\n"
     ]
    }
   ],
   "source": [
    "y_raw = transformet_df['high_roller_mark']\n",
    "X_raw = transformet_df[['gw_7_days','egw_7_days','bet_7_days','number_of_bets_7_days','number_of_games_7_days']]\n",
    "x_train, x_test, y_train, y_test = train_test_split( X_raw, y_raw, test_size=0.3, random_state=0)\n",
    "\n",
    "\n",
    "model = XGBClassifier(max_depth = 4).fit(x_train, y_train) \n",
    "y_pred=model.predict(x_test)\n",
    "\n",
    "print(\"Confusion matrix below:\")\n",
    "confusion_matrix(y_test, y_pred, labels=[1,0])\n",
    "\n",
    "print('Accurancy: {0:.2f}'.format(accuracy_score(y_test, y_pred)))\n",
    "print('Precision: {0:.2f}'.format(precision_score(y_test, y_pred)))\n",
    "print('Recall: {0:.2f}'.format(recall_score(y_test, y_pred)))"
   ]
  },
  {
   "cell_type": "code",
   "execution_count": 76,
   "metadata": {},
   "outputs": [
    {
     "name": "stdout",
     "output_type": "stream",
     "text": [
      "Number of predicted labels:\n",
      "[[     0      1]\n",
      " [722871    132]]\n"
     ]
    }
   ],
   "source": [
    "unique, counts = np.unique(y_pred, return_counts=True)\n",
    "print(\"Number of predicted labels:\")\n",
    "print(np.asarray((unique, counts)))"
   ]
  },
  {
   "cell_type": "code",
   "execution_count": 77,
   "metadata": {},
   "outputs": [
    {
     "name": "stderr",
     "output_type": "stream",
     "text": [
      "C:\\ProgramData\\Anaconda3\\lib\\site-packages\\sklearn\\preprocessing\\label.py:151: DeprecationWarning: The truth value of an empty array is ambiguous. Returning False, but in future this will result in an error. Use `array.size > 0` to check that an array is not empty.\n",
      "  if diff:\n"
     ]
    },
    {
     "name": "stdout",
     "output_type": "stream",
     "text": [
      "Confusion matrix train below:\n",
      "Accurancy: 1.00\n",
      "Precision: 0.97\n",
      "Recall: 0.28\n"
     ]
    }
   ],
   "source": [
    "#checking stability on train dataset\n",
    "y_pred=model.predict(x_train)\n",
    "print(\"Confusion matrix train below:\")\n",
    "\n",
    "print('Accurancy: {0:.2f}'.format(accuracy_score(y_train, y_pred)))\n",
    "print('Precision: {0:.2f}'.format(precision_score(y_train, y_pred)))\n",
    "print('Recall: {0:.2f}'.format(recall_score(y_train, y_pred)))"
   ]
  },
  {
   "cell_type": "markdown",
   "metadata": {},
   "source": [
    "### Balanced data"
   ]
  },
  {
   "cell_type": "code",
   "execution_count": 78,
   "metadata": {},
   "outputs": [
    {
     "name": "stdout",
     "output_type": "stream",
     "text": [
      "Confusion matrix below:\n"
     ]
    },
    {
     "name": "stderr",
     "output_type": "stream",
     "text": [
      "C:\\ProgramData\\Anaconda3\\lib\\site-packages\\sklearn\\preprocessing\\label.py:151: DeprecationWarning: The truth value of an empty array is ambiguous. Returning False, but in future this will result in an error. Use `array.size > 0` to check that an array is not empty.\n",
      "  if diff:\n"
     ]
    },
    {
     "data": {
      "text/plain": [
       "array([[ 2327,   632],\n",
       "       [  273, 29768]], dtype=int64)"
      ]
     },
     "execution_count": 78,
     "metadata": {},
     "output_type": "execute_result"
    },
    {
     "name": "stdout",
     "output_type": "stream",
     "text": [
      "Accurancy: 0.97\n",
      "Precision: 0.90\n",
      "Recall: 0.79\n"
     ]
    }
   ],
   "source": [
    "y_raw = balanced_df['high_roller_mark']\n",
    "X_raw = balanced_df[['gw_7_days','egw_7_days','bet_7_days','number_of_bets_7_days','number_of_games_7_days']]\n",
    "x_train, x_test, y_train, y_test = train_test_split( X_raw, y_raw, test_size=0.3, random_state=0)\n",
    "\n",
    "\n",
    "model = XGBClassifier(max_depth = 4).fit(x_train, y_train) \n",
    "y_pred=model.predict(x_test)\n",
    "\n",
    "print(\"Confusion matrix below:\")\n",
    "confusion_matrix(y_test, y_pred, labels=[1,0])\n",
    "\n",
    "print('Accurancy: {0:.2f}'.format(accuracy_score(y_test, y_pred)))\n",
    "print('Precision: {0:.2f}'.format(precision_score(y_test, y_pred)))\n",
    "print('Recall: {0:.2f}'.format(recall_score(y_test, y_pred)))"
   ]
  },
  {
   "cell_type": "code",
   "execution_count": 79,
   "metadata": {},
   "outputs": [
    {
     "name": "stdout",
     "output_type": "stream",
     "text": [
      "Number of predicted labels:\n",
      "[[    0     1]\n",
      " [30400  2600]]\n"
     ]
    }
   ],
   "source": [
    "unique, counts = np.unique(y_pred, return_counts=True)\n",
    "print(\"Number of predicted labels:\")\n",
    "print(np.asarray((unique, counts)))"
   ]
  },
  {
   "cell_type": "code",
   "execution_count": 80,
   "metadata": {},
   "outputs": [
    {
     "name": "stderr",
     "output_type": "stream",
     "text": [
      "C:\\ProgramData\\Anaconda3\\lib\\site-packages\\sklearn\\preprocessing\\label.py:151: DeprecationWarning: The truth value of an empty array is ambiguous. Returning False, but in future this will result in an error. Use `array.size > 0` to check that an array is not empty.\n",
      "  if diff:\n"
     ]
    },
    {
     "name": "stdout",
     "output_type": "stream",
     "text": [
      "Confusion matrix below:\n"
     ]
    },
    {
     "data": {
      "text/plain": [
       "array([[   368,    103],\n",
       "       [  6712, 715820]], dtype=int64)"
      ]
     },
     "execution_count": 80,
     "metadata": {},
     "output_type": "execute_result"
    },
    {
     "name": "stdout",
     "output_type": "stream",
     "text": [
      "Accurancy: 0.99\n",
      "Precision: 0.05\n",
      "Recall: 0.78\n"
     ]
    }
   ],
   "source": [
    "#again the same but without creating model!\n",
    "y_raw = df['high_roller_mark']\n",
    "X_raw = df[['gw_7_days','egw_7_days','bet_7_days','number_of_bets_7_days','number_of_games_7_days']]\n",
    "x_train, x_test, y_train, y_test = train_test_split( X_raw, y_raw, test_size=0.3, random_state=0)\n",
    "\n",
    "y_pred=model.predict(x_test)\n",
    "\n",
    "print(\"Confusion matrix below:\")\n",
    "confusion_matrix(y_test, y_pred, labels=[1,0])\n",
    "\n",
    "print('Accurancy: {0:.2f}'.format(accuracy_score(y_test, y_pred)))\n",
    "print('Precision: {0:.2f}'.format(precision_score(y_test, y_pred)))\n",
    "print('Recall: {0:.2f}'.format(recall_score(y_test, y_pred)))"
   ]
  },
  {
   "cell_type": "code",
   "execution_count": 81,
   "metadata": {},
   "outputs": [
    {
     "name": "stdout",
     "output_type": "stream",
     "text": [
      "Number of predicted labels:\n",
      "[[     0      1]\n",
      " [715923   7080]]\n"
     ]
    }
   ],
   "source": [
    "unique, counts = np.unique(y_pred, return_counts=True)\n",
    "print(\"Number of predicted labels:\")\n",
    "print(np.asarray((unique, counts)))"
   ]
  },
  {
   "cell_type": "code",
   "execution_count": 82,
   "metadata": {},
   "outputs": [
    {
     "name": "stderr",
     "output_type": "stream",
     "text": [
      "C:\\ProgramData\\Anaconda3\\lib\\site-packages\\sklearn\\preprocessing\\label.py:151: DeprecationWarning: The truth value of an empty array is ambiguous. Returning False, but in future this will result in an error. Use `array.size > 0` to check that an array is not empty.\n",
      "  if diff:\n"
     ]
    },
    {
     "name": "stdout",
     "output_type": "stream",
     "text": [
      "Confusion matrix train below:\n",
      "Accurancy: 0.99\n",
      "Precision: 0.06\n",
      "Recall: 0.79\n"
     ]
    }
   ],
   "source": [
    "#checking stability on train dataset\n",
    "y_pred=model.predict(x_train)\n",
    "print(\"Confusion matrix train below:\")\n",
    "\n",
    "print('Accurancy: {0:.2f}'.format(accuracy_score(y_train, y_pred)))\n",
    "print('Precision: {0:.2f}'.format(precision_score(y_train, y_pred)))\n",
    "print('Recall: {0:.2f}'.format(recall_score(y_train, y_pred)))"
   ]
  },
  {
   "cell_type": "markdown",
   "metadata": {},
   "source": [
    "### Weighted data"
   ]
  },
  {
   "cell_type": "code",
   "execution_count": 83,
   "metadata": {},
   "outputs": [
    {
     "name": "stderr",
     "output_type": "stream",
     "text": [
      "C:\\ProgramData\\Anaconda3\\lib\\site-packages\\xgboost\\core.py:587: FutureWarning: Series.base is deprecated and will be removed in a future version\n",
      "  if getattr(data, 'base', None) is not None and \\\n"
     ]
    },
    {
     "name": "stdout",
     "output_type": "stream",
     "text": [
      "Confusion matrix below:\n"
     ]
    },
    {
     "data": {
      "text/plain": [
       "array([[   414,     57],\n",
       "       [ 53224, 669308]], dtype=int64)"
      ]
     },
     "execution_count": 83,
     "metadata": {},
     "output_type": "execute_result"
    },
    {
     "name": "stdout",
     "output_type": "stream",
     "text": [
      "Accurancy: 0.93\n",
      "Precision: 0.01\n",
      "Recall: 0.88\n"
     ]
    }
   ],
   "source": [
    "y_raw = df['high_roller_mark']\n",
    "X_raw = df[['gw_7_days','egw_7_days','bet_7_days','number_of_bets_7_days','number_of_games_7_days']]\n",
    "x_train, x_test, y_train, y_test = train_test_split( X_raw, y_raw, test_size=0.3, random_state=0)\n",
    "\n",
    "\n",
    "params = {\n",
    "   \n",
    "    \n",
    "    'learning_rate' :0.9,\n",
    "    'n_estimators':1,\n",
    "    'max_depth' :3,\n",
    "    'min_child_weight' :1,\n",
    "    'gamma':0.04,\n",
    "    'subsample':0.55,\n",
    "    'colsample_bytree':0.85,\n",
    "    'reg_alpha':0.005,\n",
    "    'objective': 'binary:logistic',\n",
    "    'nthread':2,\n",
    "    'scale_pos_weight':1,\n",
    "\n",
    "}\n",
    "num_rounds = 15\n",
    "\n",
    "\n",
    "dtrain = xgb.DMatrix(x_train, label=y_train)\n",
    "dtest = xgb.DMatrix(x_test)\n",
    "\n",
    "train_labels = dtrain.get_label()\n",
    "ratio = float(np.sum(train_labels ==0) / np.sum(train_labels==1))\n",
    "params['scale_pos_weight'] = ratio\n",
    "\n",
    "\n",
    "bst = xgb.train(params, dtrain, num_rounds)\n",
    "y_pred = (bst.predict(dtest)>0.5).astype('int')\n",
    "\n",
    "\n",
    "print(\"Confusion matrix below:\")\n",
    "confusion_matrix(y_test, y_pred, labels=[1,0])\n",
    "\n",
    "print('Accurancy: {0:.2f}'.format(accuracy_score(y_test, y_pred)))\n",
    "print('Precision: {0:.2f}'.format(precision_score(y_test, y_pred)))\n",
    "print('Recall: {0:.2f}'.format(recall_score(y_test, y_pred)))"
   ]
  },
  {
   "cell_type": "code",
   "execution_count": 84,
   "metadata": {},
   "outputs": [
    {
     "name": "stdout",
     "output_type": "stream",
     "text": [
      "Number of predicted labels:\n",
      "[[     0      1]\n",
      " [669365  53638]]\n"
     ]
    }
   ],
   "source": [
    "unique, counts = np.unique(y_pred, return_counts=True)\n",
    "print(\"Number of predicted labels:\")\n",
    "print(np.asarray((unique, counts)))"
   ]
  },
  {
   "cell_type": "code",
   "execution_count": 85,
   "metadata": {},
   "outputs": [
    {
     "name": "stderr",
     "output_type": "stream",
     "text": [
      "C:\\ProgramData\\Anaconda3\\lib\\site-packages\\sklearn\\preprocessing\\label.py:151: DeprecationWarning: The truth value of an empty array is ambiguous. Returning False, but in future this will result in an error. Use `array.size > 0` to check that an array is not empty.\n",
      "  if diff:\n"
     ]
    },
    {
     "name": "stdout",
     "output_type": "stream",
     "text": [
      "Confusion matrix train below:\n",
      "Accurancy: 0.99\n",
      "Precision: 0.06\n",
      "Recall: 0.79\n"
     ]
    }
   ],
   "source": [
    "#checking stability on train dataset\n",
    "y_pred=model.predict(x_train)\n",
    "print(\"Confusion matrix train below:\")\n",
    "\n",
    "print('Accurancy: {0:.2f}'.format(accuracy_score(y_train, y_pred)))\n",
    "print('Precision: {0:.2f}'.format(precision_score(y_train, y_pred)))\n",
    "print('Recall: {0:.2f}'.format(recall_score(y_train, y_pred)))"
   ]
  },
  {
   "cell_type": "markdown",
   "metadata": {},
   "source": [
    "## Compare algorythms"
   ]
  },
  {
   "cell_type": "markdown",
   "metadata": {},
   "source": [
    "### Raw data"
   ]
  },
  {
   "cell_type": "code",
   "execution_count": 86,
   "metadata": {},
   "outputs": [
    {
     "data": {
      "text/plain": [
       "<Figure size 432x288 with 0 Axes>"
      ]
     },
     "execution_count": 86,
     "metadata": {},
     "output_type": "execute_result"
    },
    {
     "data": {
      "text/plain": [
       "LogisticRegression(C=1.0, class_weight=None, dual=False, fit_intercept=True,\n",
       "          intercept_scaling=1, max_iter=100, multi_class='ovr', n_jobs=1,\n",
       "          penalty='l2', random_state=None, solver='liblinear', tol=0.0001,\n",
       "          verbose=0, warm_start=False)"
      ]
     },
     "execution_count": 86,
     "metadata": {},
     "output_type": "execute_result"
    },
    {
     "data": {
      "text/plain": [
       "[<matplotlib.lines.Line2D at 0x2af849fe2b0>]"
      ]
     },
     "execution_count": 86,
     "metadata": {},
     "output_type": "execute_result"
    },
    {
     "data": {
      "text/plain": [
       "XGBClassifier(base_score=0.5, booster='gbtree', colsample_bylevel=1,\n",
       "       colsample_bynode=1, colsample_bytree=1, gamma=0, learning_rate=0.1,\n",
       "       max_delta_step=0, max_depth=8, min_child_weight=1, missing=None,\n",
       "       n_estimators=100, n_jobs=1, nthread=None,\n",
       "       objective='binary:logistic', random_state=0, reg_alpha=0,\n",
       "       reg_lambda=1, scale_pos_weight=1, seed=None, silent=None,\n",
       "       subsample=1, verbosity=1)"
      ]
     },
     "execution_count": 86,
     "metadata": {},
     "output_type": "execute_result"
    },
    {
     "name": "stderr",
     "output_type": "stream",
     "text": [
      "C:\\ProgramData\\Anaconda3\\lib\\site-packages\\sklearn\\preprocessing\\label.py:151: DeprecationWarning: The truth value of an empty array is ambiguous. Returning False, but in future this will result in an error. Use `array.size > 0` to check that an array is not empty.\n",
      "  if diff:\n",
      "C:\\ProgramData\\Anaconda3\\lib\\site-packages\\sklearn\\preprocessing\\label.py:151: DeprecationWarning: The truth value of an empty array is ambiguous. Returning False, but in future this will result in an error. Use `array.size > 0` to check that an array is not empty.\n",
      "  if diff:\n"
     ]
    },
    {
     "data": {
      "text/plain": [
       "[<matplotlib.lines.Line2D at 0x2af849fe748>]"
      ]
     },
     "execution_count": 86,
     "metadata": {},
     "output_type": "execute_result"
    },
    {
     "data": {
      "text/plain": [
       "RandomForestClassifier(bootstrap=True, class_weight=None, criterion='gini',\n",
       "            max_depth=3, max_features='auto', max_leaf_nodes=None,\n",
       "            min_impurity_decrease=0.0, min_impurity_split=None,\n",
       "            min_samples_leaf=1, min_samples_split=2,\n",
       "            min_weight_fraction_leaf=0.0, n_estimators=5, n_jobs=1,\n",
       "            oob_score=False, random_state=None, verbose=0,\n",
       "            warm_start=False)"
      ]
     },
     "execution_count": 86,
     "metadata": {},
     "output_type": "execute_result"
    },
    {
     "data": {
      "text/plain": [
       "[<matplotlib.lines.Line2D at 0x2af849fefd0>]"
      ]
     },
     "execution_count": 86,
     "metadata": {},
     "output_type": "execute_result"
    },
    {
     "data": {
      "text/plain": [
       "[<matplotlib.lines.Line2D at 0x2af849d8ef0>]"
      ]
     },
     "execution_count": 86,
     "metadata": {},
     "output_type": "execute_result"
    },
    {
     "data": {
      "text/plain": [
       "(0.0, 1.0)"
      ]
     },
     "execution_count": 86,
     "metadata": {},
     "output_type": "execute_result"
    },
    {
     "data": {
      "text/plain": [
       "(0.0, 1.05)"
      ]
     },
     "execution_count": 86,
     "metadata": {},
     "output_type": "execute_result"
    },
    {
     "data": {
      "text/plain": [
       "Text(0.5,0,'1-Specificity(False Positive Rate)')"
      ]
     },
     "execution_count": 86,
     "metadata": {},
     "output_type": "execute_result"
    },
    {
     "data": {
      "text/plain": [
       "Text(0,0.5,'Sensitivity(True Positive Rate)')"
      ]
     },
     "execution_count": 86,
     "metadata": {},
     "output_type": "execute_result"
    },
    {
     "data": {
      "text/plain": [
       "Text(0.5,1,'Receiver Operating Characteristic')"
      ]
     },
     "execution_count": 86,
     "metadata": {},
     "output_type": "execute_result"
    },
    {
     "data": {
      "text/plain": [
       "<matplotlib.legend.Legend at 0x2af849e2cc0>"
      ]
     },
     "execution_count": 86,
     "metadata": {},
     "output_type": "execute_result"
    },
    {
     "data": {
      "image/png": "[encoded data removed]",
      "text/plain": [
       "<Figure size 432x288 with 1 Axes>"
      ]
     },
     "metadata": {},
     "output_type": "display_data"
    }
   ],
   "source": [
    "y_raw = df['high_roller_mark']\n",
    "X_raw = df[['gw_7_days','egw_7_days','bet_7_days','number_of_bets_7_days','number_of_games_7_days']]\n",
    "\n",
    "x_train, x_test, y_train, y_test = train_test_split( X_raw, y_raw, test_size=0.3, random_state=0)\n",
    "\n",
    "\n",
    "plt.figure()\n",
    "\n",
    "# Add the models to the list that you want to view on the ROC plot\n",
    "models = [\n",
    "{\n",
    "    'label': 'Logistic Regression',\n",
    "    'model': LogisticRegression(),\n",
    "},\n",
    "{\n",
    "    'label':'XG Boost Classifier',\n",
    "    'model':XGBClassifier(max_depth = 8),\n",
    "},\n",
    "{\n",
    "    'label':'Random Forest Classifier',\n",
    "    'model':RandomForestClassifier(max_depth = 3, n_estimators = 5),\n",
    "}\n",
    "]\n",
    "\n",
    "# Below for loop iterates through your models list\n",
    "for m in models:\n",
    "    model = m['model'] # select the model\n",
    "    model.fit(x_train, y_train) # train the model\n",
    "    y_pred=model.predict(x_test) # predict the test data\n",
    "# Compute False postive rate, and True positive rate\n",
    "    fpr, tpr, thresholds = metrics.roc_curve(y_test, model.predict_proba(x_test)[:,1])\n",
    "# Calculate Area under the curve to display on the plot\n",
    "    auc = metrics.roc_auc_score(y_test,model.predict(x_test))\n",
    "# Now, plot the computed values\n",
    "    plt.plot(fpr, tpr, label='%s ROC (area = %0.2f)' % (m['label'], auc))\n",
    "# Custom settings for the plot \n",
    "plt.plot([0, 1], [0, 1],'r--')\n",
    "plt.xlim([0.0, 1.0])\n",
    "plt.ylim([0.0, 1.05])\n",
    "plt.xlabel('1-Specificity(False Positive Rate)')\n",
    "plt.ylabel('Sensitivity(True Positive Rate)')\n",
    "plt.title('Receiver Operating Characteristic')\n",
    "plt.legend(loc=\"lower right\")\n",
    "plt.show()   # Display"
   ]
  },
  {
   "cell_type": "markdown",
   "metadata": {},
   "source": [
    "### Normalizaed data"
   ]
  },
  {
   "cell_type": "code",
   "execution_count": 87,
   "metadata": {},
   "outputs": [
    {
     "data": {
      "text/plain": [
       "<Figure size 432x288 with 0 Axes>"
      ]
     },
     "execution_count": 87,
     "metadata": {},
     "output_type": "execute_result"
    },
    {
     "data": {
      "text/plain": [
       "LogisticRegression(C=1.0, class_weight=None, dual=False, fit_intercept=True,\n",
       "          intercept_scaling=1, max_iter=100, multi_class='ovr', n_jobs=1,\n",
       "          penalty='l2', random_state=None, solver='liblinear', tol=0.0001,\n",
       "          verbose=0, warm_start=False)"
      ]
     },
     "execution_count": 87,
     "metadata": {},
     "output_type": "execute_result"
    },
    {
     "data": {
      "text/plain": [
       "[<matplotlib.lines.Line2D at 0x2af84cdffd0>]"
      ]
     },
     "execution_count": 87,
     "metadata": {},
     "output_type": "execute_result"
    },
    {
     "data": {
      "text/plain": [
       "XGBClassifier(base_score=0.5, booster='gbtree', colsample_bylevel=1,\n",
       "       colsample_bynode=1, colsample_bytree=1, gamma=0, learning_rate=0.1,\n",
       "       max_delta_step=0, max_depth=8, min_child_weight=1, missing=None,\n",
       "       n_estimators=100, n_jobs=1, nthread=None,\n",
       "       objective='binary:logistic', random_state=0, reg_alpha=0,\n",
       "       reg_lambda=1, scale_pos_weight=1, seed=None, silent=None,\n",
       "       subsample=1, verbosity=1)"
      ]
     },
     "execution_count": 87,
     "metadata": {},
     "output_type": "execute_result"
    },
    {
     "name": "stderr",
     "output_type": "stream",
     "text": [
      "C:\\ProgramData\\Anaconda3\\lib\\site-packages\\sklearn\\preprocessing\\label.py:151: DeprecationWarning: The truth value of an empty array is ambiguous. Returning False, but in future this will result in an error. Use `array.size > 0` to check that an array is not empty.\n",
      "  if diff:\n",
      "C:\\ProgramData\\Anaconda3\\lib\\site-packages\\sklearn\\preprocessing\\label.py:151: DeprecationWarning: The truth value of an empty array is ambiguous. Returning False, but in future this will result in an error. Use `array.size > 0` to check that an array is not empty.\n",
      "  if diff:\n"
     ]
    },
    {
     "data": {
      "text/plain": [
       "[<matplotlib.lines.Line2D at 0x2af84ce6828>]"
      ]
     },
     "execution_count": 87,
     "metadata": {},
     "output_type": "execute_result"
    },
    {
     "data": {
      "text/plain": [
       "RandomForestClassifier(bootstrap=True, class_weight=None, criterion='gini',\n",
       "            max_depth=3, max_features='auto', max_leaf_nodes=None,\n",
       "            min_impurity_decrease=0.0, min_impurity_split=None,\n",
       "            min_samples_leaf=1, min_samples_split=2,\n",
       "            min_weight_fraction_leaf=0.0, n_estimators=5, n_jobs=1,\n",
       "            oob_score=False, random_state=None, verbose=0,\n",
       "            warm_start=False)"
      ]
     },
     "execution_count": 87,
     "metadata": {},
     "output_type": "execute_result"
    },
    {
     "data": {
      "text/plain": [
       "[<matplotlib.lines.Line2D at 0x2af84ce6da0>]"
      ]
     },
     "execution_count": 87,
     "metadata": {},
     "output_type": "execute_result"
    },
    {
     "data": {
      "text/plain": [
       "[<matplotlib.lines.Line2D at 0x2af849d8f28>]"
      ]
     },
     "execution_count": 87,
     "metadata": {},
     "output_type": "execute_result"
    },
    {
     "data": {
      "text/plain": [
       "(0.0, 1.0)"
      ]
     },
     "execution_count": 87,
     "metadata": {},
     "output_type": "execute_result"
    },
    {
     "data": {
      "text/plain": [
       "(0.0, 1.05)"
      ]
     },
     "execution_count": 87,
     "metadata": {},
     "output_type": "execute_result"
    },
    {
     "data": {
      "text/plain": [
       "Text(0.5,0,'1-Specificity(False Positive Rate)')"
      ]
     },
     "execution_count": 87,
     "metadata": {},
     "output_type": "execute_result"
    },
    {
     "data": {
      "text/plain": [
       "Text(0,0.5,'Sensitivity(True Positive Rate)')"
      ]
     },
     "execution_count": 87,
     "metadata": {},
     "output_type": "execute_result"
    },
    {
     "data": {
      "text/plain": [
       "Text(0.5,1,'Receiver Operating Characteristic')"
      ]
     },
     "execution_count": 87,
     "metadata": {},
     "output_type": "execute_result"
    },
    {
     "data": {
      "text/plain": [
       "<matplotlib.legend.Legend at 0x2af84cd7978>"
      ]
     },
     "execution_count": 87,
     "metadata": {},
     "output_type": "execute_result"
    },
    {
     "data": {
      "image/png": "[encoded data removed]",
      "text/plain": [
       "<Figure size 432x288 with 1 Axes>"
      ]
     },
     "metadata": {},
     "output_type": "display_data"
    }
   ],
   "source": [
    "y_raw = df['high_roller_mark']\n",
    "X_raw = scaled_df[['gw_7_days','egw_7_days','bet_7_days','number_of_bets_7_days','number_of_games_7_days']]\n",
    "\n",
    "x_train, x_test, y_train, y_test = train_test_split( X_raw, y_raw, test_size=0.3, random_state=0)\n",
    "\n",
    "\n",
    "plt.figure()\n",
    "\n",
    "# Add the models to the list that you want to view on the ROC plot\n",
    "models = [\n",
    "{\n",
    "    'label': 'Logistic Regression',\n",
    "    'model': LogisticRegression(),\n",
    "},\n",
    "{\n",
    "    'label':'XG Boost Classifier',\n",
    "    'model':XGBClassifier(max_depth = 8),\n",
    "},\n",
    "{\n",
    "    'label':'Random Forest Classifier',\n",
    "    'model':RandomForestClassifier(max_depth = 3, n_estimators = 5),\n",
    "}\n",
    "]\n",
    "\n",
    "# Below for loop iterates through your models list\n",
    "for m in models:\n",
    "    model = m['model'] # select the model\n",
    "    model.fit(x_train, y_train) # train the model\n",
    "    y_pred=model.predict(x_test) # predict the test data\n",
    "# Compute False postive rate, and True positive rate\n",
    "    fpr, tpr, thresholds = metrics.roc_curve(y_test, model.predict_proba(x_test)[:,1])\n",
    "# Calculate Area under the curve to display on the plot\n",
    "    auc = metrics.roc_auc_score(y_test,model.predict(x_test))\n",
    "# Now, plot the computed values\n",
    "    plt.plot(fpr, tpr, label='%s ROC (area = %0.2f)' % (m['label'], auc))\n",
    "# Custom settings for the plot \n",
    "plt.plot([0, 1], [0, 1],'r--')\n",
    "plt.xlim([0.0, 1.0])\n",
    "plt.ylim([0.0, 1.05])\n",
    "plt.xlabel('1-Specificity(False Positive Rate)')\n",
    "plt.ylabel('Sensitivity(True Positive Rate)')\n",
    "plt.title('Receiver Operating Characteristic')\n",
    "plt.legend(loc=\"lower right\")\n",
    "plt.show() "
   ]
  },
  {
   "cell_type": "markdown",
   "metadata": {},
   "source": [
    "### Tranformed data"
   ]
  },
  {
   "cell_type": "code",
   "execution_count": 88,
   "metadata": {},
   "outputs": [
    {
     "data": {
      "text/plain": [
       "<Figure size 432x288 with 0 Axes>"
      ]
     },
     "execution_count": 88,
     "metadata": {},
     "output_type": "execute_result"
    },
    {
     "data": {
      "text/plain": [
       "LogisticRegression(C=1.0, class_weight=None, dual=False, fit_intercept=True,\n",
       "          intercept_scaling=1, max_iter=100, multi_class='ovr', n_jobs=1,\n",
       "          penalty='l2', random_state=None, solver='liblinear', tol=0.0001,\n",
       "          verbose=0, warm_start=False)"
      ]
     },
     "execution_count": 88,
     "metadata": {},
     "output_type": "execute_result"
    },
    {
     "data": {
      "text/plain": [
       "[<matplotlib.lines.Line2D at 0x2af847c5c18>]"
      ]
     },
     "execution_count": 88,
     "metadata": {},
     "output_type": "execute_result"
    },
    {
     "data": {
      "text/plain": [
       "XGBClassifier(base_score=0.5, booster='gbtree', colsample_bylevel=1,\n",
       "       colsample_bynode=1, colsample_bytree=1, gamma=0, learning_rate=0.1,\n",
       "       max_delta_step=0, max_depth=8, min_child_weight=1, missing=None,\n",
       "       n_estimators=100, n_jobs=1, nthread=None,\n",
       "       objective='binary:logistic', random_state=0, reg_alpha=0,\n",
       "       reg_lambda=1, scale_pos_weight=1, seed=None, silent=None,\n",
       "       subsample=1, verbosity=1)"
      ]
     },
     "execution_count": 88,
     "metadata": {},
     "output_type": "execute_result"
    },
    {
     "name": "stderr",
     "output_type": "stream",
     "text": [
      "C:\\ProgramData\\Anaconda3\\lib\\site-packages\\sklearn\\preprocessing\\label.py:151: DeprecationWarning: The truth value of an empty array is ambiguous. Returning False, but in future this will result in an error. Use `array.size > 0` to check that an array is not empty.\n",
      "  if diff:\n",
      "C:\\ProgramData\\Anaconda3\\lib\\site-packages\\sklearn\\preprocessing\\label.py:151: DeprecationWarning: The truth value of an empty array is ambiguous. Returning False, but in future this will result in an error. Use `array.size > 0` to check that an array is not empty.\n",
      "  if diff:\n"
     ]
    },
    {
     "data": {
      "text/plain": [
       "[<matplotlib.lines.Line2D at 0x2af84821438>]"
      ]
     },
     "execution_count": 88,
     "metadata": {},
     "output_type": "execute_result"
    },
    {
     "data": {
      "text/plain": [
       "RandomForestClassifier(bootstrap=True, class_weight=None, criterion='gini',\n",
       "            max_depth=3, max_features='auto', max_leaf_nodes=None,\n",
       "            min_impurity_decrease=0.0, min_impurity_split=None,\n",
       "            min_samples_leaf=1, min_samples_split=2,\n",
       "            min_weight_fraction_leaf=0.0, n_estimators=5, n_jobs=1,\n",
       "            oob_score=False, random_state=None, verbose=0,\n",
       "            warm_start=False)"
      ]
     },
     "execution_count": 88,
     "metadata": {},
     "output_type": "execute_result"
    },
    {
     "data": {
      "text/plain": [
       "[<matplotlib.lines.Line2D at 0x2af8479b9b0>]"
      ]
     },
     "execution_count": 88,
     "metadata": {},
     "output_type": "execute_result"
    },
    {
     "data": {
      "text/plain": [
       "[<matplotlib.lines.Line2D at 0x2af84d8e128>]"
      ]
     },
     "execution_count": 88,
     "metadata": {},
     "output_type": "execute_result"
    },
    {
     "data": {
      "text/plain": [
       "(0.0, 1.0)"
      ]
     },
     "execution_count": 88,
     "metadata": {},
     "output_type": "execute_result"
    },
    {
     "data": {
      "text/plain": [
       "(0.0, 1.05)"
      ]
     },
     "execution_count": 88,
     "metadata": {},
     "output_type": "execute_result"
    },
    {
     "data": {
      "text/plain": [
       "Text(0.5,0,'1-Specificity(False Positive Rate)')"
      ]
     },
     "execution_count": 88,
     "metadata": {},
     "output_type": "execute_result"
    },
    {
     "data": {
      "text/plain": [
       "Text(0,0.5,'Sensitivity(True Positive Rate)')"
      ]
     },
     "execution_count": 88,
     "metadata": {},
     "output_type": "execute_result"
    },
    {
     "data": {
      "text/plain": [
       "Text(0.5,1,'Receiver Operating Characteristic')"
      ]
     },
     "execution_count": 88,
     "metadata": {},
     "output_type": "execute_result"
    },
    {
     "data": {
      "text/plain": [
       "<matplotlib.legend.Legend at 0x2af847ee898>"
      ]
     },
     "execution_count": 88,
     "metadata": {},
     "output_type": "execute_result"
    },
    {
     "data": {
      "image/png": "[encoded data removed]",
      "text/plain": [
       "<Figure size 432x288 with 1 Axes>"
      ]
     },
     "metadata": {},
     "output_type": "display_data"
    }
   ],
   "source": [
    "y_raw = df['high_roller_mark']\n",
    "X_raw = transformet_df[['gw_7_days','egw_7_days','bet_7_days','number_of_bets_7_days','number_of_games_7_days']]\n",
    "\n",
    "x_train, x_test, y_train, y_test = train_test_split( X_raw, y_raw, test_size=0.3, random_state=0)\n",
    "\n",
    "\n",
    "plt.figure()\n",
    "\n",
    "# Add the models to the list that you want to view on the ROC plot\n",
    "models = [\n",
    "{\n",
    "    'label': 'Logistic Regression',\n",
    "    'model': LogisticRegression(),\n",
    "},\n",
    "{\n",
    "    'label':'XG Boost Classifier',\n",
    "    'model':XGBClassifier(max_depth = 8),\n",
    "},\n",
    "{\n",
    "    'label':'Random Forest Classifier',\n",
    "    'model':RandomForestClassifier(max_depth = 3, n_estimators = 5),\n",
    "}\n",
    "]\n",
    "\n",
    "# Below for loop iterates through your models list\n",
    "for m in models:\n",
    "    model = m['model'] # select the model\n",
    "    model.fit(x_train, y_train) # train the model\n",
    "    y_pred=model.predict(x_test) # predict the test data\n",
    "# Compute False postive rate, and True positive rate\n",
    "    fpr, tpr, thresholds = metrics.roc_curve(y_test, model.predict_proba(x_test)[:,1])\n",
    "# Calculate Area under the curve to display on the plot\n",
    "    auc = metrics.roc_auc_score(y_test,model.predict(x_test))\n",
    "# Now, plot the computed values\n",
    "    plt.plot(fpr, tpr, label='%s ROC (area = %0.2f)' % (m['label'], auc))\n",
    "# Custom settings for the plot \n",
    "plt.plot([0, 1], [0, 1],'r--')\n",
    "plt.xlim([0.0, 1.0])\n",
    "plt.ylim([0.0, 1.05])\n",
    "plt.xlabel('1-Specificity(False Positive Rate)')\n",
    "plt.ylabel('Sensitivity(True Positive Rate)')\n",
    "plt.title('Receiver Operating Characteristic')\n",
    "plt.legend(loc=\"lower right\")\n",
    "plt.show() "
   ]
  },
  {
   "cell_type": "markdown",
   "metadata": {},
   "source": [
    "### Balansed data"
   ]
  },
  {
   "cell_type": "code",
   "execution_count": 89,
   "metadata": {},
   "outputs": [
    {
     "data": {
      "text/plain": [
       "<Figure size 432x288 with 0 Axes>"
      ]
     },
     "execution_count": 89,
     "metadata": {},
     "output_type": "execute_result"
    },
    {
     "data": {
      "text/plain": [
       "LogisticRegression(C=1.0, class_weight=None, dual=False, fit_intercept=True,\n",
       "          intercept_scaling=1, max_iter=100, multi_class='ovr', n_jobs=1,\n",
       "          penalty='l2', random_state=None, solver='liblinear', tol=0.0001,\n",
       "          verbose=0, warm_start=False)"
      ]
     },
     "execution_count": 89,
     "metadata": {},
     "output_type": "execute_result"
    },
    {
     "data": {
      "text/plain": [
       "[<matplotlib.lines.Line2D at 0x2af84751a90>]"
      ]
     },
     "execution_count": 89,
     "metadata": {},
     "output_type": "execute_result"
    },
    {
     "data": {
      "text/plain": [
       "XGBClassifier(base_score=0.5, booster='gbtree', colsample_bylevel=1,\n",
       "       colsample_bynode=1, colsample_bytree=1, gamma=0, learning_rate=0.1,\n",
       "       max_delta_step=0, max_depth=8, min_child_weight=1, missing=None,\n",
       "       n_estimators=100, n_jobs=1, nthread=None,\n",
       "       objective='binary:logistic', random_state=0, reg_alpha=0,\n",
       "       reg_lambda=1, scale_pos_weight=1, seed=None, silent=None,\n",
       "       subsample=1, verbosity=1)"
      ]
     },
     "execution_count": 89,
     "metadata": {},
     "output_type": "execute_result"
    },
    {
     "name": "stderr",
     "output_type": "stream",
     "text": [
      "C:\\ProgramData\\Anaconda3\\lib\\site-packages\\sklearn\\preprocessing\\label.py:151: DeprecationWarning: The truth value of an empty array is ambiguous. Returning False, but in future this will result in an error. Use `array.size > 0` to check that an array is not empty.\n",
      "  if diff:\n",
      "C:\\ProgramData\\Anaconda3\\lib\\site-packages\\sklearn\\preprocessing\\label.py:151: DeprecationWarning: The truth value of an empty array is ambiguous. Returning False, but in future this will result in an error. Use `array.size > 0` to check that an array is not empty.\n",
      "  if diff:\n"
     ]
    },
    {
     "data": {
      "text/plain": [
       "[<matplotlib.lines.Line2D at 0x2af84761be0>]"
      ]
     },
     "execution_count": 89,
     "metadata": {},
     "output_type": "execute_result"
    },
    {
     "data": {
      "text/plain": [
       "RandomForestClassifier(bootstrap=True, class_weight=None, criterion='gini',\n",
       "            max_depth=3, max_features='auto', max_leaf_nodes=None,\n",
       "            min_impurity_decrease=0.0, min_impurity_split=None,\n",
       "            min_samples_leaf=1, min_samples_split=2,\n",
       "            min_weight_fraction_leaf=0.0, n_estimators=5, n_jobs=1,\n",
       "            oob_score=False, random_state=None, verbose=0,\n",
       "            warm_start=False)"
      ]
     },
     "execution_count": 89,
     "metadata": {},
     "output_type": "execute_result"
    },
    {
     "data": {
      "text/plain": [
       "[<matplotlib.lines.Line2D at 0x2af847618d0>]"
      ]
     },
     "execution_count": 89,
     "metadata": {},
     "output_type": "execute_result"
    },
    {
     "data": {
      "text/plain": [
       "[<matplotlib.lines.Line2D at 0x2af84a258d0>]"
      ]
     },
     "execution_count": 89,
     "metadata": {},
     "output_type": "execute_result"
    },
    {
     "data": {
      "text/plain": [
       "(0.0, 1.0)"
      ]
     },
     "execution_count": 89,
     "metadata": {},
     "output_type": "execute_result"
    },
    {
     "data": {
      "text/plain": [
       "(0.0, 1.05)"
      ]
     },
     "execution_count": 89,
     "metadata": {},
     "output_type": "execute_result"
    },
    {
     "data": {
      "text/plain": [
       "Text(0.5,0,'1-Specificity(False Positive Rate)')"
      ]
     },
     "execution_count": 89,
     "metadata": {},
     "output_type": "execute_result"
    },
    {
     "data": {
      "text/plain": [
       "Text(0,0.5,'Sensitivity(True Positive Rate)')"
      ]
     },
     "execution_count": 89,
     "metadata": {},
     "output_type": "execute_result"
    },
    {
     "data": {
      "text/plain": [
       "Text(0.5,1,'Receiver Operating Characteristic')"
      ]
     },
     "execution_count": 89,
     "metadata": {},
     "output_type": "execute_result"
    },
    {
     "data": {
      "text/plain": [
       "<matplotlib.legend.Legend at 0x2af84770470>"
      ]
     },
     "execution_count": 89,
     "metadata": {},
     "output_type": "execute_result"
    },
    {
     "data": {
      "image/png": "[encoded data removed]",
      "text/plain": [
       "<Figure size 432x288 with 1 Axes>"
      ]
     },
     "metadata": {},
     "output_type": "display_data"
    }
   ],
   "source": [
    "y_raw = balanced_df['high_roller_mark']\n",
    "X_raw = balanced_df[['gw_7_days','egw_7_days','bet_7_days','number_of_bets_7_days','number_of_games_7_days']]\n",
    "\n",
    "x_train, x_test, y_train, y_test = train_test_split( X_raw, y_raw, test_size=0.3, random_state=0)\n",
    "\n",
    "\n",
    "plt.figure()\n",
    "\n",
    "# Add the models to the list that you want to view on the ROC plot\n",
    "models = [\n",
    "{\n",
    "    'label': 'Logistic Regression',\n",
    "    'model': LogisticRegression(),\n",
    "},\n",
    "{\n",
    "    'label':'XG Boost Classifier',\n",
    "    'model':XGBClassifier(max_depth = 8),\n",
    "},\n",
    "{\n",
    "    'label':'Random Forest Classifier',\n",
    "    'model':RandomForestClassifier(max_depth = 3, n_estimators = 5),\n",
    "}\n",
    "]\n",
    "\n",
    "# Below for loop iterates through your models list\n",
    "for m in models:\n",
    "    model = m['model'] # select the model\n",
    "    model.fit(x_train, y_train) # train the model\n",
    "    y_pred=model.predict(x_test) # predict the test data\n",
    "# Compute False postive rate, and True positive rate\n",
    "    fpr, tpr, thresholds = metrics.roc_curve(y_test, model.predict_proba(x_test)[:,1])\n",
    "# Calculate Area under the curve to display on the plot\n",
    "    auc = metrics.roc_auc_score(y_test,model.predict(x_test))\n",
    "# Now, plot the computed values\n",
    "    plt.plot(fpr, tpr, label='%s ROC (area = %0.2f)' % (m['label'], auc))\n",
    "# Custom settings for the plot \n",
    "plt.plot([0, 1], [0, 1],'r--')\n",
    "plt.xlim([0.0, 1.0])\n",
    "plt.ylim([0.0, 1.05])\n",
    "plt.xlabel('1-Specificity(False Positive Rate)')\n",
    "plt.ylabel('Sensitivity(True Positive Rate)')\n",
    "plt.title('Receiver Operating Characteristic')\n",
    "plt.legend(loc=\"lower right\")\n",
    "plt.show() "
   ]
  },
  {
   "cell_type": "code",
   "execution_count": null,
   "metadata": {},
   "outputs": [],
   "source": []
  }
 ],
 "metadata": {
  "kernelspec": {
   "display_name": "Python 3",
   "language": "python",
   "name": "python3"
  },
  "language_info": {
   "codemirror_mode": {
    "name": "ipython",
    "version": 3
   },
   "file_extension": ".py",
   "mimetype": "text/x-python",
   "name": "python",
   "nbconvert_exporter": "python",
   "pygments_lexer": "ipython3",
   "version": "3.6.5"
  }
 },
 "nbformat": 4,
 "nbformat_minor": 2
}
